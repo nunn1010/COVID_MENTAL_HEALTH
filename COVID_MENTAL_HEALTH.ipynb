
    "bipolar_volume = postvolume(bipolar_df)\n",
    "    \n",
    "\n",
    "    \n",
    "#Plot activity over time for each subreddit\n",
    "\n",
    "from matplotlib.pyplot import figure\n",
    "figure(figsize=(10,8), dpi=80)\n",
    "plt.plot(depression_volume, label='r/Depression')\n",
    "plt.plot(anxiety_volume, label = 'r/Anxiety')\n",
    "plt.plot(schizophrenia_volume, label = 'r/schizophrenia')\n",
    "plt.plot(bipolar_volume, label = 'r/bipolar')\n",
    "plt.legend(loc='upper right')"
   ]
  }
 ],
 "metadata": {
  "kernelspec": {
   "display_name": "Python 3",
   "language": "python",
   "name": "python3"
  },
  "language_info": {
   "codemirror_mode": {
    "name": "ipython",
    "version": 3
   },
   "file_extension": ".py",
   "mimetype": "text/x-python",
   "name": "python",
   "nbconvert_exporter": "python",
   "pygments_lexer": "ipython3",
   "version": "3.8.3"
  }
 },
 "nbformat": 4,
 "nbformat_minor": 4
}
