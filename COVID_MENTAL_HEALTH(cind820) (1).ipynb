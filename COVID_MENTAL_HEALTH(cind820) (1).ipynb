{
 "cells": [
  {
   "cell_type": "markdown",
   "metadata": {},
   "source": [
    "# COVID-19 Mental Health Mapping"
   ]
  },
  {
   "cell_type": "markdown",
   "metadata": {},
   "source": [
    "### Install Packages"
   ]
  },
  {
   "cell_type": "code",
   "execution_count": 1,
   "metadata": {
    "collapsed": true,
    "execution": {
     "iopub.execute_input": "2021-11-24T01:40:07.113236Z",
     "iopub.status.busy": "2021-11-24T01:40:07.112919Z",
     "iopub.status.idle": "2021-11-24T01:40:13.471832Z",
     "shell.execute_reply": "2021-11-24T01:40:13.468629Z",
     "shell.execute_reply.started": "2021-11-24T01:40:07.113205Z"
    },
    "jupyter": {
     "outputs_hidden": true
    }
   },
   "outputs": [
    {
     "name": "stdout",
     "output_type": "stream",
     "text": [
      "Requirement already satisfied: nltk in /opt/conda/lib/python3.7/site-packages (3.6.5)\n",
      "Requirement already satisfied: tqdm in /opt/conda/lib/python3.7/site-packages (from nltk) (4.62.3)\n",
      "Requirement already satisfied: regex>=2021.8.3 in /opt/conda/lib/python3.7/site-packages (from nltk) (2021.11.10)\n",
      "Requirement already satisfied: joblib in /opt/conda/lib/python3.7/site-packages (from nltk) (1.0.1)\n",
      "Requirement already satisfied: click in /opt/conda/lib/python3.7/site-packages (from nltk) (7.1.2)\n",
      "Requirement already satisfied: pandas_profiling in /opt/conda/lib/python3.7/site-packages (3.1.0)\n",
      "Requirement already satisfied: htmlmin>=0.1.12 in /opt/conda/lib/python3.7/site-packages (from pandas_profiling) (0.1.12)\n",
      "Requirement already satisfied: phik>=0.11.1 in /opt/conda/lib/python3.7/site-packages (from pandas_profiling) (0.12.0)\n",
      "Requirement already satisfied: scipy>=1.4.1 in /opt/conda/lib/python3.7/site-packages (from pandas_profiling) (1.4.1)\n",
      "Requirement already satisfied: visions[type_image_path]==0.7.4 in /opt/conda/lib/python3.7/site-packages (from pandas_profiling) (0.7.4)\n",
      "Requirement already satisfied: tangled-up-in-unicode==0.1.0 in /opt/conda/lib/python3.7/site-packages (from pandas_profiling) (0.1.0)\n",
      "Requirement already satisfied: multimethod>=1.4 in /opt/conda/lib/python3.7/site-packages (from pandas_profiling) (1.6)\n",
      "Requirement already satisfied: jinja2>=2.11.1 in /opt/conda/lib/python3.7/site-packages (from pandas_profiling) (2.11.2)\n",
      "Requirement already satisfied: seaborn>=0.10.1 in /opt/conda/lib/python3.7/site-packages (from pandas_profiling) (0.10.1)\n",
      "Requirement already satisfied: matplotlib>=3.2.0 in /opt/conda/lib/python3.7/site-packages (from pandas_profiling) (3.2.1)\n",
      "Requirement already satisfied: numpy>=1.16.0 in /opt/conda/lib/python3.7/site-packages (from pandas_profiling) (1.18.4)\n",
      "Requirement already satisfied: requests>=2.24.0 in /opt/conda/lib/python3.7/site-packages (from pandas_profiling) (2.26.0)\n",
      "Requirement already satisfied: missingno>=0.4.2 in /opt/conda/lib/python3.7/site-packages (from pandas_profiling) (0.5.0)\n",
      "Requirement already satisfied: PyYAML>=5.0.0 in /opt/conda/lib/python3.7/site-packages (from pandas_profiling) (5.3.1)\n",
      "Requirement already satisfied: markupsafe~=2.0.1 in /opt/conda/lib/python3.7/site-packages (from pandas_profiling) (2.0.1)\n",
      "Requirement already satisfied: joblib~=1.0.1 in /opt/conda/lib/python3.7/site-packages (from pandas_profiling) (1.0.1)\n",
      "Requirement already satisfied: pandas!=1.0.0,!=1.0.1,!=1.0.2,!=1.1.0,>=0.25.3 in /opt/conda/lib/python3.7/site-packages (from pandas_profiling) (1.0.3)\n",
      "Requirement already satisfied: pydantic>=1.8.1 in /opt/conda/lib/python3.7/site-packages (from pandas_profiling) (1.8.2)\n",
      "Requirement already satisfied: tqdm>=4.48.2 in /opt/conda/lib/python3.7/site-packages (from pandas_profiling) (4.62.3)\n",
      "Requirement already satisfied: networkx>=2.4 in /opt/conda/lib/python3.7/site-packages (from visions[type_image_path]==0.7.4->pandas_profiling) (2.4)\n",
      "Requirement already satisfied: attrs>=19.3.0 in /opt/conda/lib/python3.7/site-packages (from visions[type_image_path]==0.7.4->pandas_profiling) (19.3.0)\n",
      "Requirement already satisfied: Pillow; extra == \"type_image_path\" in /opt/conda/lib/python3.7/site-packages (from visions[type_image_path]==0.7.4->pandas_profiling) (7.1.2)\n",
      "Requirement already satisfied: imagehash; extra == \"type_image_path\" in /opt/conda/lib/python3.7/site-packages (from visions[type_image_path]==0.7.4->pandas_profiling) (4.2.1)\n",
      "Requirement already satisfied: cycler>=0.10 in /opt/conda/lib/python3.7/site-packages (from matplotlib>=3.2.0->pandas_profiling) (0.10.0)\n",
      "Requirement already satisfied: kiwisolver>=1.0.1 in /opt/conda/lib/python3.7/site-packages (from matplotlib>=3.2.0->pandas_profiling) (1.2.0)\n",
      "Requirement already satisfied: pyparsing!=2.0.4,!=2.1.2,!=2.1.6,>=2.0.1 in /opt/conda/lib/python3.7/site-packages (from matplotlib>=3.2.0->pandas_profiling) (2.4.7)\n",
      "Requirement already satisfied: python-dateutil>=2.1 in /opt/conda/lib/python3.7/site-packages (from matplotlib>=3.2.0->pandas_profiling) (2.8.1)\n",
      "Requirement already satisfied: urllib3<1.27,>=1.21.1 in /opt/conda/lib/python3.7/site-packages (from requests>=2.24.0->pandas_profiling) (1.25.9)\n",
      "Requirement already satisfied: certifi>=2017.4.17 in /opt/conda/lib/python3.7/site-packages (from requests>=2.24.0->pandas_profiling) (2020.4.5.2)\n",
      "Requirement already satisfied: charset-normalizer~=2.0.0; python_version >= \"3\" in /opt/conda/lib/python3.7/site-packages (from requests>=2.24.0->pandas_profiling) (2.0.7)\n",
      "Requirement already satisfied: idna<4,>=2.5; python_version >= \"3\" in /opt/conda/lib/python3.7/site-packages (from requests>=2.24.0->pandas_profiling) (2.9)\n",
      "Requirement already satisfied: pytz>=2017.2 in /opt/conda/lib/python3.7/site-packages (from pandas!=1.0.0,!=1.0.1,!=1.0.2,!=1.1.0,>=0.25.3->pandas_profiling) (2020.1)\n",
      "Requirement already satisfied: typing-extensions>=3.7.4.3 in /opt/conda/lib/python3.7/site-packages (from pydantic>=1.8.1->pandas_profiling) (4.0.0)\n",
      "Requirement already satisfied: decorator>=4.3.0 in /opt/conda/lib/python3.7/site-packages (from networkx>=2.4->visions[type_image_path]==0.7.4->pandas_profiling) (4.4.2)\n",
      "Requirement already satisfied: PyWavelets in /opt/conda/lib/python3.7/site-packages (from imagehash; extra == \"type_image_path\"->visions[type_image_path]==0.7.4->pandas_profiling) (1.1.1)\n",
      "Requirement already satisfied: six in /opt/conda/lib/python3.7/site-packages (from imagehash; extra == \"type_image_path\"->visions[type_image_path]==0.7.4->pandas_profiling) (1.14.0)\n",
      "Requirement already satisfied: wordcloud in /opt/conda/lib/python3.7/site-packages (1.8.1)\n",
      "Requirement already satisfied: numpy>=1.6.1 in /opt/conda/lib/python3.7/site-packages (from wordcloud) (1.18.4)\n",
      "Requirement already satisfied: matplotlib in /opt/conda/lib/python3.7/site-packages (from wordcloud) (3.2.1)\n",
      "Requirement already satisfied: pillow in /opt/conda/lib/python3.7/site-packages (from wordcloud) (7.1.2)\n",
      "Requirement already satisfied: python-dateutil>=2.1 in /opt/conda/lib/python3.7/site-packages (from matplotlib->wordcloud) (2.8.1)\n",
      "Requirement already satisfied: cycler>=0.10 in /opt/conda/lib/python3.7/site-packages (from matplotlib->wordcloud) (0.10.0)\n",
      "Requirement already satisfied: kiwisolver>=1.0.1 in /opt/conda/lib/python3.7/site-packages (from matplotlib->wordcloud) (1.2.0)\n",
      "Requirement already satisfied: pyparsing!=2.0.4,!=2.1.2,!=2.1.6,>=2.0.1 in /opt/conda/lib/python3.7/site-packages (from matplotlib->wordcloud) (2.4.7)\n",
      "Requirement already satisfied: six>=1.5 in /opt/conda/lib/python3.7/site-packages (from python-dateutil>=2.1->matplotlib->wordcloud) (1.14.0)\n"
     ]
    },
    {
     "ename": "UnboundLocalError",
     "evalue": "local variable 'child' referenced before assignment",
     "output_type": "error",
     "traceback": [
      "\u001b[0;31m---------------------------------------------------------------------------\u001b[0m",
      "\u001b[0;31mKeyboardInterrupt\u001b[0m                         Traceback (most recent call last)",
      "\u001b[0;32m/opt/conda/lib/python3.7/site-packages/IPython/utils/_process_posix.py\u001b[0m in \u001b[0;36msystem\u001b[0;34m(self, cmd)\u001b[0m\n\u001b[1;32m    155\u001b[0m             \u001b[0;32melse\u001b[0m\u001b[0;34m:\u001b[0m\u001b[0;34m\u001b[0m\u001b[0;34m\u001b[0m\u001b[0m\n\u001b[0;32m--> 156\u001b[0;31m                 \u001b[0mchild\u001b[0m \u001b[0;34m=\u001b[0m \u001b[0mpexpect\u001b[0m\u001b[0;34m.\u001b[0m\u001b[0mspawn\u001b[0m\u001b[0;34m(\u001b[0m\u001b[0mself\u001b[0m\u001b[0;34m.\u001b[0m\u001b[0msh\u001b[0m\u001b[0;34m,\u001b[0m \u001b[0margs\u001b[0m\u001b[0;34m=\u001b[0m\u001b[0;34m[\u001b[0m\u001b[0;34m'-c'\u001b[0m\u001b[0;34m,\u001b[0m \u001b[0mcmd\u001b[0m\u001b[0;34m]\u001b[0m\u001b[0;34m)\u001b[0m  \u001b[0;31m# Vanilla Pexpect\u001b[0m\u001b[0;34m\u001b[0m\u001b[0;34m\u001b[0m\u001b[0m\n\u001b[0m\u001b[1;32m    157\u001b[0m             \u001b[0mflush\u001b[0m \u001b[0;34m=\u001b[0m \u001b[0msys\u001b[0m\u001b[0;34m.\u001b[0m\u001b[0mstdout\u001b[0m\u001b[0;34m.\u001b[0m\u001b[0mflush\u001b[0m\u001b[0;34m\u001b[0m\u001b[0;34m\u001b[0m\u001b[0m\n",
      "\u001b[0;32m/opt/conda/lib/python3.7/site-packages/pexpect/pty_spawn.py\u001b[0m in \u001b[0;36m__init__\u001b[0;34m(self, command, args, timeout, maxread, searchwindowsize, logfile, cwd, env, ignore_sighup, echo, preexec_fn, encoding, codec_errors, dimensions, use_poll)\u001b[0m\n\u001b[1;32m    204\u001b[0m         \u001b[0;32melse\u001b[0m\u001b[0;34m:\u001b[0m\u001b[0;34m\u001b[0m\u001b[0;34m\u001b[0m\u001b[0m\n\u001b[0;32m--> 205\u001b[0;31m             \u001b[0mself\u001b[0m\u001b[0;34m.\u001b[0m\u001b[0m_spawn\u001b[0m\u001b[0;34m(\u001b[0m\u001b[0mcommand\u001b[0m\u001b[0;34m,\u001b[0m \u001b[0margs\u001b[0m\u001b[0;34m,\u001b[0m \u001b[0mpreexec_fn\u001b[0m\u001b[0;34m,\u001b[0m \u001b[0mdimensions\u001b[0m\u001b[0;34m)\u001b[0m\u001b[0;34m\u001b[0m\u001b[0;34m\u001b[0m\u001b[0m\n\u001b[0m\u001b[1;32m    206\u001b[0m         \u001b[0mself\u001b[0m\u001b[0;34m.\u001b[0m\u001b[0muse_poll\u001b[0m \u001b[0;34m=\u001b[0m \u001b[0muse_poll\u001b[0m\u001b[0;34m\u001b[0m\u001b[0;34m\u001b[0m\u001b[0m\n",
      "\u001b[0;32m/opt/conda/lib/python3.7/site-packages/pexpect/pty_spawn.py\u001b[0m in \u001b[0;36m_spawn\u001b[0;34m(self, command, args, preexec_fn, dimensions)\u001b[0m\n\u001b[1;32m    303\u001b[0m         self.ptyproc = self._spawnpty(self.args, env=self.env,\n\u001b[0;32m--> 304\u001b[0;31m                                      cwd=self.cwd, **kwargs)\n\u001b[0m\u001b[1;32m    305\u001b[0m \u001b[0;34m\u001b[0m\u001b[0m\n",
      "\u001b[0;32m/opt/conda/lib/python3.7/site-packages/pexpect/pty_spawn.py\u001b[0m in \u001b[0;36m_spawnpty\u001b[0;34m(self, args, **kwargs)\u001b[0m\n\u001b[1;32m    314\u001b[0m         \u001b[0;34m'''Spawn a pty and return an instance of PtyProcess.'''\u001b[0m\u001b[0;34m\u001b[0m\u001b[0;34m\u001b[0m\u001b[0m\n\u001b[0;32m--> 315\u001b[0;31m         \u001b[0;32mreturn\u001b[0m \u001b[0mptyprocess\u001b[0m\u001b[0;34m.\u001b[0m\u001b[0mPtyProcess\u001b[0m\u001b[0;34m.\u001b[0m\u001b[0mspawn\u001b[0m\u001b[0;34m(\u001b[0m\u001b[0margs\u001b[0m\u001b[0;34m,\u001b[0m \u001b[0;34m**\u001b[0m\u001b[0mkwargs\u001b[0m\u001b[0;34m)\u001b[0m\u001b[0;34m\u001b[0m\u001b[0;34m\u001b[0m\u001b[0m\n\u001b[0m\u001b[1;32m    316\u001b[0m \u001b[0;34m\u001b[0m\u001b[0m\n",
      "\u001b[0;32m/opt/conda/lib/python3.7/site-packages/ptyprocess/ptyprocess.py\u001b[0m in \u001b[0;36mspawn\u001b[0;34m(cls, argv, cwd, env, echo, preexec_fn, dimensions)\u001b[0m\n\u001b[1;32m    308\u001b[0m         \u001b[0mos\u001b[0m\u001b[0;34m.\u001b[0m\u001b[0mclose\u001b[0m\u001b[0;34m(\u001b[0m\u001b[0mexec_err_pipe_write\u001b[0m\u001b[0;34m)\u001b[0m\u001b[0;34m\u001b[0m\u001b[0;34m\u001b[0m\u001b[0m\n\u001b[0;32m--> 309\u001b[0;31m         \u001b[0mexec_err_data\u001b[0m \u001b[0;34m=\u001b[0m \u001b[0mos\u001b[0m\u001b[0;34m.\u001b[0m\u001b[0mread\u001b[0m\u001b[0;34m(\u001b[0m\u001b[0mexec_err_pipe_read\u001b[0m\u001b[0;34m,\u001b[0m \u001b[0;36m4096\u001b[0m\u001b[0;34m)\u001b[0m\u001b[0;34m\u001b[0m\u001b[0;34m\u001b[0m\u001b[0m\n\u001b[0m\u001b[1;32m    310\u001b[0m         \u001b[0mos\u001b[0m\u001b[0;34m.\u001b[0m\u001b[0mclose\u001b[0m\u001b[0;34m(\u001b[0m\u001b[0mexec_err_pipe_read\u001b[0m\u001b[0;34m)\u001b[0m\u001b[0;34m\u001b[0m\u001b[0;34m\u001b[0m\u001b[0m\n",
      "\u001b[0;31mKeyboardInterrupt\u001b[0m: ",
      "\nDuring handling of the above exception, another exception occurred:\n",
      "\u001b[0;31mUnboundLocalError\u001b[0m                         Traceback (most recent call last)",
      "\u001b[0;32m<ipython-input-1-a2a45c79502a>\u001b[0m in \u001b[0;36m<module>\u001b[0;34m\u001b[0m\n\u001b[1;32m      2\u001b[0m \u001b[0mget_ipython\u001b[0m\u001b[0;34m(\u001b[0m\u001b[0;34m)\u001b[0m\u001b[0;34m.\u001b[0m\u001b[0msystem\u001b[0m\u001b[0;34m(\u001b[0m\u001b[0;34m'pip install pandas_profiling'\u001b[0m\u001b[0;34m)\u001b[0m\u001b[0;34m\u001b[0m\u001b[0;34m\u001b[0m\u001b[0m\n\u001b[1;32m      3\u001b[0m \u001b[0mget_ipython\u001b[0m\u001b[0;34m(\u001b[0m\u001b[0;34m)\u001b[0m\u001b[0;34m.\u001b[0m\u001b[0msystem\u001b[0m\u001b[0;34m(\u001b[0m\u001b[0;34m'pip install wordcloud'\u001b[0m\u001b[0;34m)\u001b[0m\u001b[0;34m\u001b[0m\u001b[0;34m\u001b[0m\u001b[0m\n\u001b[0;32m----> 4\u001b[0;31m \u001b[0mget_ipython\u001b[0m\u001b[0;34m(\u001b[0m\u001b[0;34m)\u001b[0m\u001b[0;34m.\u001b[0m\u001b[0msystem\u001b[0m\u001b[0;34m(\u001b[0m\u001b[0;34m'pip install opencv-python'\u001b[0m\u001b[0;34m)\u001b[0m\u001b[0;34m\u001b[0m\u001b[0;34m\u001b[0m\u001b[0m\n\u001b[0m\u001b[1;32m      5\u001b[0m \u001b[0mget_ipython\u001b[0m\u001b[0;34m(\u001b[0m\u001b[0;34m)\u001b[0m\u001b[0;34m.\u001b[0m\u001b[0msystem\u001b[0m\u001b[0;34m(\u001b[0m\u001b[0;34m'pip install ipython-autotime'\u001b[0m\u001b[0;34m)\u001b[0m\u001b[0;34m\u001b[0m\u001b[0;34m\u001b[0m\u001b[0m\n",
      "\u001b[0;32m/opt/conda/lib/python3.7/site-packages/ipykernel/zmqshell.py\u001b[0m in \u001b[0;36msystem_piped\u001b[0;34m(self, cmd)\u001b[0m\n\u001b[1;32m    633\u001b[0m                 \u001b[0mself\u001b[0m\u001b[0;34m.\u001b[0m\u001b[0muser_ns\u001b[0m\u001b[0;34m[\u001b[0m\u001b[0;34m'_exit_code'\u001b[0m\u001b[0;34m]\u001b[0m \u001b[0;34m=\u001b[0m \u001b[0msystem\u001b[0m\u001b[0;34m(\u001b[0m\u001b[0mcmd\u001b[0m\u001b[0;34m)\u001b[0m\u001b[0;34m\u001b[0m\u001b[0;34m\u001b[0m\u001b[0m\n\u001b[1;32m    634\u001b[0m         \u001b[0;32melse\u001b[0m\u001b[0;34m:\u001b[0m\u001b[0;34m\u001b[0m\u001b[0;34m\u001b[0m\u001b[0m\n\u001b[0;32m--> 635\u001b[0;31m             \u001b[0mself\u001b[0m\u001b[0;34m.\u001b[0m\u001b[0muser_ns\u001b[0m\u001b[0;34m[\u001b[0m\u001b[0;34m'_exit_code'\u001b[0m\u001b[0;34m]\u001b[0m \u001b[0;34m=\u001b[0m \u001b[0msystem\u001b[0m\u001b[0;34m(\u001b[0m\u001b[0mself\u001b[0m\u001b[0;34m.\u001b[0m\u001b[0mvar_expand\u001b[0m\u001b[0;34m(\u001b[0m\u001b[0mcmd\u001b[0m\u001b[0;34m,\u001b[0m \u001b[0mdepth\u001b[0m\u001b[0;34m=\u001b[0m\u001b[0;36m1\u001b[0m\u001b[0;34m)\u001b[0m\u001b[0;34m)\u001b[0m\u001b[0;34m\u001b[0m\u001b[0;34m\u001b[0m\u001b[0m\n\u001b[0m\u001b[1;32m    636\u001b[0m \u001b[0;34m\u001b[0m\u001b[0m\n\u001b[1;32m    637\u001b[0m     \u001b[0;31m# Ensure new system_piped implementation is used\u001b[0m\u001b[0;34m\u001b[0m\u001b[0;34m\u001b[0m\u001b[0;34m\u001b[0m\u001b[0m\n",
      "\u001b[0;32m/opt/conda/lib/python3.7/site-packages/IPython/utils/_process_posix.py\u001b[0m in \u001b[0;36msystem\u001b[0;34m(self, cmd)\u001b[0m\n\u001b[1;32m    170\u001b[0m             \u001b[0;31m# (the character is known as ETX for 'End of Text', see\u001b[0m\u001b[0;34m\u001b[0m\u001b[0;34m\u001b[0m\u001b[0;34m\u001b[0m\u001b[0m\n\u001b[1;32m    171\u001b[0m             \u001b[0;31m# curses.ascii.ETX).\u001b[0m\u001b[0;34m\u001b[0m\u001b[0;34m\u001b[0m\u001b[0;34m\u001b[0m\u001b[0m\n\u001b[0;32m--> 172\u001b[0;31m             \u001b[0mchild\u001b[0m\u001b[0;34m.\u001b[0m\u001b[0msendline\u001b[0m\u001b[0;34m(\u001b[0m\u001b[0mchr\u001b[0m\u001b[0;34m(\u001b[0m\u001b[0;36m3\u001b[0m\u001b[0;34m)\u001b[0m\u001b[0;34m)\u001b[0m\u001b[0;34m\u001b[0m\u001b[0;34m\u001b[0m\u001b[0m\n\u001b[0m\u001b[1;32m    173\u001b[0m             \u001b[0;31m# Read and print any more output the program might produce on its\u001b[0m\u001b[0;34m\u001b[0m\u001b[0;34m\u001b[0m\u001b[0;34m\u001b[0m\u001b[0m\n\u001b[1;32m    174\u001b[0m             \u001b[0;31m# way out.\u001b[0m\u001b[0;34m\u001b[0m\u001b[0;34m\u001b[0m\u001b[0;34m\u001b[0m\u001b[0m\n",
      "\u001b[0;31mUnboundLocalError\u001b[0m: local variable 'child' referenced before assignment"
     ]
    }
   ],
   "source": [
    "!pip install nltk\n",
    "!pip install pandas_profiling\n",
    "!pip install wordcloud\n",
    "!pip install opencv-python\n",
    "!pip install ipython-autotime"
   ]
  },
  {
   "cell_type": "markdown",
   "metadata": {},
   "source": [
    "### Import Libraries"
   ]
  },
  {
   "cell_type": "code",
   "execution_count": 2,
   "metadata": {
    "execution": {
     "iopub.execute_input": "2021-11-24T01:40:23.931156Z",
     "iopub.status.busy": "2021-11-24T01:40:23.930845Z",
     "iopub.status.idle": "2021-11-24T01:40:26.237409Z",
     "shell.execute_reply": "2021-11-24T01:40:26.236637Z",
     "shell.execute_reply.started": "2021-11-24T01:40:23.931101Z"
    }
   },
   "outputs": [
    {
     "name": "stderr",
     "output_type": "stream",
     "text": [
      "[nltk_data] Downloading package stopwords to /home/jovyan/nltk_data...\n",
      "[nltk_data]   Package stopwords is already up-to-date!\n",
      "[nltk_data] Downloading package wordnet to /home/jovyan/nltk_data...\n",
      "[nltk_data]   Package wordnet is already up-to-date!\n",
      "[nltk_data] Downloading package punkt to /home/jovyan/nltk_data...\n",
      "[nltk_data]   Package punkt is already up-to-date!\n"
     ]
    },
    {
     "data": {
      "text/plain": [
       "True"
      ]
     },
     "execution_count": 2,
     "metadata": {},
     "output_type": "execute_result"
    },
    {
     "name": "stdout",
     "output_type": "stream",
     "text": [
      "time: 1.7 s (started: 2021-11-24 01:40:24 +00:00)\n"
     ]
    }
   ],
   "source": [
    "#Data Analysis\n",
    "import pandas as pd\n",
    "import numpy as np\n",
    "import os\n",
    "import matplotlib.pyplot as plt\n",
    "from matplotlib.pyplot import figure\n",
    "%matplotlib inline\n",
    "%load_ext autotime\n",
    "import scipy\n",
    "import seaborn as sns\n",
    "import pandas_profiling\n",
    "from collections import Counter\n",
    "import cv2\n",
    "import datetime\n",
    "format=\"%Y-%m-%d\"\n",
    "\n",
    "#Feature Engineering & Models\n",
    "from sklearn.feature_extraction.text import TfidfVectorizer\n",
    "from sklearn.model_selection import train_test_split\n",
    "from sklearn.feature_selection import chi2\n",
    "from sklearn.naive_bayes import MultinomialNB\n",
    "from sklearn.neighbors import KNeighborsClassifier\n",
    "from sklearn.linear_model import LogisticRegression\n",
    "from sklearn import metrics\n",
    "from sklearn.metrics import accuracy_score, confusion_matrix, classification_report\n",
    "from sklearn.model_selection import KFold\n",
    "from sklearn.model_selection import cross_val_score\n",
    "\n",
    "#NLP\n",
    "import string\n",
    "import nltk\n",
    "from nltk.tokenize import RegexpTokenizer\n",
    "from nltk.tokenize import word_tokenize\n",
    "from nltk.corpus import stopwords\n",
    "from nltk.stem import WordNetLemmatizer\n",
    "nltk.download('stopwords')\n",
    "nltk.download('wordnet')\n",
    "stopwords = set(stopwords.words('english'))\n",
    "stopwords.update(['I', \"I'm\",'im', 'st', 'r', 'guys','hey','hello', 'hi'])\n",
    "\n",
    "import re\n",
    "from wordcloud import WordCloud, ImageColorGenerator\n",
    "nltk.download('punkt')"
   ]
  },
  {
   "cell_type": "markdown",
   "metadata": {},
   "source": [
    "## Reddit Analysis "
   ]
  },
  {
   "cell_type": "markdown",
   "metadata": {},
   "source": [
    "Reddit data is used for directional analysis into the types of mental health issues people are most likely to face during COVID-19. Reddit focuses on anonymous user conversations, and as a result is useful for capturing genuine discussions around mental health which may be missing in Twitter data due to the non-anonymized nature of the platform. \n",
    "\n",
    "Reddit may also be used as a training source in order to build a supervised learning model that classifies posts into mental health indications from Twitter.\n",
    "Posts are sourced from subreddits dedicated to conversations around mental health issues (r/COVID19_support, r/depression, r/anxiety, r/HealthAnxiety, r/bipolar, r/schizophrenia). "
   ]
  },
  {
   "cell_type": "markdown",
   "metadata": {},
   "source": [
    "We can use this 'labelled' data to train a classification model, which will be used to organize social media posts into various mental health conditions."
   ]
  },
  {
   "cell_type": "code",
   "execution_count": 3,
   "metadata": {
    "execution": {
     "iopub.execute_input": "2021-11-24T01:40:30.631297Z",
     "iopub.status.busy": "2021-11-24T01:40:30.630985Z",
     "iopub.status.idle": "2021-11-24T01:40:31.317275Z",
     "shell.execute_reply": "2021-11-24T01:40:31.316498Z",
     "shell.execute_reply.started": "2021-11-24T01:40:30.631264Z"
    }
   },
   "outputs": [
    {
     "data": {
      "text/html": [
       "<div>\n",
       "<style scoped>\n",
       "    .dataframe tbody tr th:only-of-type {\n",
       "        vertical-align: middle;\n",
       "    }\n",
       "\n",
       "    .dataframe tbody tr th {\n",
       "        vertical-align: top;\n",
       "    }\n",
       "\n",
       "    .dataframe thead th {\n",
       "        text-align: right;\n",
       "    }\n",
       "</style>\n",
       "<table border=\"1\" class=\"dataframe\">\n",
       "  <thead>\n",
       "    <tr style=\"text-align: right;\">\n",
       "      <th></th>\n",
       "      <th>Query Id</th>\n",
       "      <th>Query Name</th>\n",
       "      <th>Subreddit</th>\n",
       "      <th>Date</th>\n",
       "      <th>Title</th>\n",
       "      <th>Snippet</th>\n",
       "      <th>content</th>\n",
       "    </tr>\n",
       "  </thead>\n",
       "  <tbody>\n",
       "    <tr>\n",
       "      <th>0</th>\n",
       "      <td>2.000748e+09</td>\n",
       "      <td>Mental Health</td>\n",
       "      <td>r/Anxiety</td>\n",
       "      <td>2020-05-08</td>\n",
       "      <td>Always need a deep breathe!</td>\n",
       "      <td>...Later on I heard another woman describing a...</td>\n",
       "      <td>Always need a deep breathe! ...Later on I hear...</td>\n",
       "    </tr>\n",
       "    <tr>\n",
       "      <th>1</th>\n",
       "      <td>2.000748e+09</td>\n",
       "      <td>Mental Health</td>\n",
       "      <td>r/Anxiety</td>\n",
       "      <td>2020-04-21</td>\n",
       "      <td>Let's post good news on the coronavirus here.</td>\n",
       "      <td>Agreed! I do like a nice latte once in a while...</td>\n",
       "      <td>Let's post good news on the coronavirus here. ...</td>\n",
       "    </tr>\n",
       "    <tr>\n",
       "      <th>2</th>\n",
       "      <td>2.000748e+09</td>\n",
       "      <td>Mental Health</td>\n",
       "      <td>r/Anxiety</td>\n",
       "      <td>2020-08-20</td>\n",
       "      <td>Does anyone else experience back to work anxiety</td>\n",
       "      <td>Only when I hated my job (when I was in retail...</td>\n",
       "      <td>Does anyone else experience back to work anxie...</td>\n",
       "    </tr>\n",
       "    <tr>\n",
       "      <th>3</th>\n",
       "      <td>2.000748e+09</td>\n",
       "      <td>Mental Health</td>\n",
       "      <td>r/Anxiety</td>\n",
       "      <td>2020-05-26</td>\n",
       "      <td>I cant walk through a town or even a village o...</td>\n",
       "      <td>Does your mom keep you updated on the news on ...</td>\n",
       "      <td>I cant walk through a town or even a village o...</td>\n",
       "    </tr>\n",
       "    <tr>\n",
       "      <th>4</th>\n",
       "      <td>2.000748e+09</td>\n",
       "      <td>Mental Health</td>\n",
       "      <td>r/Anxiety</td>\n",
       "      <td>2021-08-23</td>\n",
       "      <td>Just took my medication for the first time</td>\n",
       "      <td>I remember the lead up to beginning meds (I’m ...</td>\n",
       "      <td>Just took my medication for the first time I r...</td>\n",
       "    </tr>\n",
       "    <tr>\n",
       "      <th>...</th>\n",
       "      <td>...</td>\n",
       "      <td>...</td>\n",
       "      <td>...</td>\n",
       "      <td>...</td>\n",
       "      <td>...</td>\n",
       "      <td>...</td>\n",
       "      <td>...</td>\n",
       "    </tr>\n",
       "    <tr>\n",
       "      <th>18400</th>\n",
       "      <td>2.000748e+09</td>\n",
       "      <td>Mental Health</td>\n",
       "      <td>r/schizophrenia</td>\n",
       "      <td>2021-09-29</td>\n",
       "      <td>Delusions have been getting worse</td>\n",
       "      <td>I keep on thinking I have a serious sickness b...</td>\n",
       "      <td>Delusions have been getting worse I keep on th...</td>\n",
       "    </tr>\n",
       "    <tr>\n",
       "      <th>18401</th>\n",
       "      <td>2.000748e+09</td>\n",
       "      <td>Mental Health</td>\n",
       "      <td>r/schizophrenia</td>\n",
       "      <td>2021-08-16</td>\n",
       "      <td>First day on college campus. Pretty nervous bu...</td>\n",
       "      <td>I gotchu buddy, I've figured schizophrenia out...</td>\n",
       "      <td>First day on college campus. Pretty nervous bu...</td>\n",
       "    </tr>\n",
       "    <tr>\n",
       "      <th>18403</th>\n",
       "      <td>2.000748e+09</td>\n",
       "      <td>Mental Health</td>\n",
       "      <td>r/schizophrenia</td>\n",
       "      <td>2020-02-04</td>\n",
       "      <td>What is your experience with having psychosis ...</td>\n",
       "      <td>I am diagnosed with schizoaffective disorder (...</td>\n",
       "      <td>What is your experience with having psychosis ...</td>\n",
       "    </tr>\n",
       "    <tr>\n",
       "      <th>18404</th>\n",
       "      <td>2.000748e+09</td>\n",
       "      <td>Mental Health</td>\n",
       "      <td>r/schizophrenia</td>\n",
       "      <td>2021-01-15</td>\n",
       "      <td>How should closed ones react?</td>\n",
       "      <td>Like I said I’m prospering with no medication ...</td>\n",
       "      <td>How should closed ones react? Like I said I’m ...</td>\n",
       "    </tr>\n",
       "    <tr>\n",
       "      <th>18406</th>\n",
       "      <td>2.000748e+09</td>\n",
       "      <td>Mental Health</td>\n",
       "      <td>r/schizophrenia</td>\n",
       "      <td>2021-09-08</td>\n",
       "      <td>Do your hallucinatory entities interact with t...</td>\n",
       "      <td>Medication and a stay in the hospital stopped ...</td>\n",
       "      <td>Do your hallucinatory entities interact with t...</td>\n",
       "    </tr>\n",
       "  </tbody>\n",
       "</table>\n",
       "<p>14928 rows × 7 columns</p>\n",
       "</div>"
      ],
      "text/plain": [
       "           Query Id     Query Name        Subreddit       Date  \\\n",
       "0      2.000748e+09  Mental Health        r/Anxiety 2020-05-08   \n",
       "1      2.000748e+09  Mental Health        r/Anxiety 2020-04-21   \n",
       "2      2.000748e+09  Mental Health        r/Anxiety 2020-08-20   \n",
       "3      2.000748e+09  Mental Health        r/Anxiety 2020-05-26   \n",
       "4      2.000748e+09  Mental Health        r/Anxiety 2021-08-23   \n",
       "...             ...            ...              ...        ...   \n",
       "18400  2.000748e+09  Mental Health  r/schizophrenia 2021-09-29   \n",
       "18401  2.000748e+09  Mental Health  r/schizophrenia 2021-08-16   \n",
       "18403  2.000748e+09  Mental Health  r/schizophrenia 2020-02-04   \n",
       "18404  2.000748e+09  Mental Health  r/schizophrenia 2021-01-15   \n",
       "18406  2.000748e+09  Mental Health  r/schizophrenia 2021-09-08   \n",
       "\n",
       "                                                   Title  \\\n",
       "0                            Always need a deep breathe!   \n",
       "1          Let's post good news on the coronavirus here.   \n",
       "2       Does anyone else experience back to work anxiety   \n",
       "3      I cant walk through a town or even a village o...   \n",
       "4             Just took my medication for the first time   \n",
       "...                                                  ...   \n",
       "18400                  Delusions have been getting worse   \n",
       "18401  First day on college campus. Pretty nervous bu...   \n",
       "18403  What is your experience with having psychosis ...   \n",
       "18404                      How should closed ones react?   \n",
       "18406  Do your hallucinatory entities interact with t...   \n",
       "\n",
       "                                                 Snippet  \\\n",
       "0      ...Later on I heard another woman describing a...   \n",
       "1      Agreed! I do like a nice latte once in a while...   \n",
       "2      Only when I hated my job (when I was in retail...   \n",
       "3      Does your mom keep you updated on the news on ...   \n",
       "4      I remember the lead up to beginning meds (I’m ...   \n",
       "...                                                  ...   \n",
       "18400  I keep on thinking I have a serious sickness b...   \n",
       "18401  I gotchu buddy, I've figured schizophrenia out...   \n",
       "18403  I am diagnosed with schizoaffective disorder (...   \n",
       "18404  Like I said I’m prospering with no medication ...   \n",
       "18406  Medication and a stay in the hospital stopped ...   \n",
       "\n",
       "                                                 content  \n",
       "0      Always need a deep breathe! ...Later on I hear...  \n",
       "1      Let's post good news on the coronavirus here. ...  \n",
       "2      Does anyone else experience back to work anxie...  \n",
       "3      I cant walk through a town or even a village o...  \n",
       "4      Just took my medication for the first time I r...  \n",
       "...                                                  ...  \n",
       "18400  Delusions have been getting worse I keep on th...  \n",
       "18401  First day on college campus. Pretty nervous bu...  \n",
       "18403  What is your experience with having psychosis ...  \n",
       "18404  How should closed ones react? Like I said I’m ...  \n",
       "18406  Do your hallucinatory entities interact with t...  \n",
       "\n",
       "[14928 rows x 7 columns]"
      ]
     },
     "execution_count": 3,
     "metadata": {},
     "output_type": "execute_result"
    },
    {
     "name": "stdout",
     "output_type": "stream",
     "text": [
      "time: 680 ms (started: 2021-11-24 01:40:30 +00:00)\n"
     ]
    }
   ],
   "source": [
    "#Load corpus of Reddit posts. \n",
    "#Dates: Jan 1 2020 - Sept 30 2021\n",
    "reddit_df = pd.read_csv('reddit_corpus.csv')\n",
    "reddit_df = pd.DataFrame(reddit_df)\n",
    "reddit_df = reddit_df[reddit_df['Subreddit'].notna()]\n",
    "\n",
    "\n",
    "#Convert Date values to datetime64 \n",
    "\n",
    "reddit_df['Date'] = pd.to_datetime(reddit_df['Date'], format = \"%m/%d/%Y\")\n",
    "\n",
    "#Analyze only posts from Jan 2020 - Sept 2021 (drop Oct 2021 posts)\n",
    "reddit_df = reddit_df[(reddit_df['Date'] < '10/1/2021')]\n",
    "\n",
    "\n",
    "#Reddit posts are extracted with the post Title and the \"Snippet\", which may be a further explanation of the post or a response by another user to the post. To avoid artifically inflating terms, we limit each \n",
    "# post to appearing only once in the dataset by removing duplicate \"Title\" & \"Snippet\" values.\n",
    "\n",
    "reddit_df = reddit_df.drop_duplicates(subset=['Title'])\n",
    "reddit_df = reddit_df.drop_duplicates(subset=['Snippet'])\n",
    "\n",
    "#In order to capture the maximum amount of contextual conversation possible, we concatenate both columns to produce one column with all words in both the post title and reply/snippet.\n",
    "content = []\n",
    "for i in reddit_df.index:\n",
    "    content.append(str(reddit_df['Title'][i]) + \" \" + str(reddit_df['Snippet'][i]))\n",
    "\n",
    "reddit_df['content'] = content\n",
    "\n",
    "reddit_df = reddit_df.drop_duplicates(subset=['content'])\n",
    "\n",
    "reddit_df\n"
   ]
  },
  {
   "cell_type": "code",
   "execution_count": 4,
   "metadata": {
    "execution": {
     "iopub.execute_input": "2021-11-24T01:40:33.988080Z",
     "iopub.status.busy": "2021-11-24T01:40:33.987795Z",
     "iopub.status.idle": "2021-11-24T01:40:33.996969Z",
     "shell.execute_reply": "2021-11-24T01:40:33.995970Z",
     "shell.execute_reply.started": "2021-11-24T01:40:33.988050Z"
    }
   },
   "outputs": [
    {
     "data": {
      "text/plain": [
       "Counter({'r/Anxiety': 4324,\n",
       "         'r/bipolar': 3357,\n",
       "         'r/Depression': 4370,\n",
       "         'r/schizophrenia': 2877})"
      ]
     },
     "execution_count": 4,
     "metadata": {},
     "output_type": "execute_result"
    },
    {
     "name": "stdout",
     "output_type": "stream",
     "text": [
      "time: 5.07 ms (started: 2021-11-24 01:40:33 +00:00)\n"
     ]
    }
   ],
   "source": [
    "#Total subreddit post volumes\n",
    "Counter(reddit_df['Subreddit'])"
   ]
  },
  {
   "cell_type": "markdown",
   "metadata": {},
   "source": [
    "## Exploratory Data Analysis"
   ]
  },
  {
   "cell_type": "markdown",
   "metadata": {},
   "source": [
    "Distribution of posts by Mental Health category"
   ]
  },
  {
   "cell_type": "code",
   "execution_count": 5,
   "metadata": {
    "execution": {
     "iopub.execute_input": "2021-11-24T01:40:36.172589Z",
     "iopub.status.busy": "2021-11-24T01:40:36.172195Z",
     "iopub.status.idle": "2021-11-24T01:40:36.294217Z",
     "shell.execute_reply": "2021-11-24T01:40:36.293203Z",
     "shell.execute_reply.started": "2021-11-24T01:40:36.172549Z"
    }
   },
   "outputs": [
    {
     "name": "stdout",
     "output_type": "stream",
     "text": [
      "time: 117 ms (started: 2021-11-24 01:40:36 +00:00)\n"
     ]
    }
   ],
   "source": [
    "sns.set(style='darkgrid')\n",
    "plt.figure(figsize=(10,8))\n",
    "ax = sns.countplot(x='Subreddit', data=reddit_df)\n",
    "plt.savefig('counts.png')"
   ]
  },
  {
   "cell_type": "markdown",
   "metadata": {},
   "source": [
    "Distribution of post lengths within each mental health category"
   ]
  },
  {
   "cell_type": "code",
   "execution_count": 6,
   "metadata": {
    "execution": {
     "iopub.execute_input": "2021-11-24T01:40:38.572332Z",
     "iopub.status.busy": "2021-11-24T01:40:38.571939Z",
     "iopub.status.idle": "2021-11-24T01:40:39.251632Z",
     "shell.execute_reply": "2021-11-24T01:40:39.250629Z",
     "shell.execute_reply.started": "2021-11-24T01:40:38.572299Z"
    }
   },
   "outputs": [
    {
     "name": "stdout",
     "output_type": "stream",
     "text": [
      "time: 672 ms (started: 2021-11-24 01:40:38 +00:00)\n"
     ]
    }
   ],
   "source": [
    "reddit_df['post_length'] = reddit_df['content'].str.len()\n",
    "\n",
    "\n",
    "fig = plt.figure(figsize=(12,10))\n",
    "\n",
    "rows=2\n",
    "columns = 2\n",
    "\n",
    "fig.add_subplot(rows, columns, 1)\n",
    "sns.distplot(reddit_df['post_length'][reddit_df['Subreddit'] == 'r/Depression'])\n",
    "#plt.axis('off')\n",
    "plt.title('Depression')\n",
    "\n",
    "fig.add_subplot(rows, columns, 2)\n",
    "sns.distplot(reddit_df['post_length'][reddit_df['Subreddit'] == 'r/Anxiety'])\n",
    "#plt.axis('off')\n",
    "plt.title('Anxiety')\n",
    "\n",
    "fig.add_subplot(rows, columns, 3)\n",
    "sns.distplot(reddit_df['post_length'][reddit_df['Subreddit'] == 'r/bipolar'])\n",
    "#plt.axis('off')\n",
    "plt.title('Bipolar')\n",
    "\n",
    "fig.add_subplot(rows, columns, 4)\n",
    "sns.distplot(reddit_df['post_length'][reddit_df['Subreddit'] == 'r/schizophrenia'])\n",
    "#plt.axis('off')\n",
    "plt.title('Schizophrenia')\n",
    "\n",
    "\n",
    "\n",
    "plt.savefig('post_length.png')\n",
    "reddit_df['post_length'].describe()\n",
    "\n",
    "plt.show()"
   ]
  },
  {
   "cell_type": "code",
   "execution_count": 7,
   "metadata": {
    "execution": {
     "iopub.execute_input": "2021-11-24T01:40:41.451033Z",
     "iopub.status.busy": "2021-11-24T01:40:41.450722Z",
     "iopub.status.idle": "2021-11-24T01:40:42.052088Z",
     "shell.execute_reply": "2021-11-24T01:40:42.051201Z",
     "shell.execute_reply.started": "2021-11-24T01:40:41.450996Z"
    }
   },
   "outputs": [
    {
     "name": "stdout",
     "output_type": "stream",
     "text": [
      "time: 597 ms (started: 2021-11-24 01:40:41 +00:00)\n"
     ]
    }
   ],
   "source": [
    "sns.boxplot(data=reddit_df, x='Subreddit', y='post_length')\n",
    "plt.savefig('post_length_boxplot.png')\n",
    "plt.show()"
   ]
  },
  {
   "cell_type": "code",
   "execution_count": null,
   "metadata": {
    "execution": {
     "iopub.status.busy": "2021-11-24T01:40:13.480471Z",
     "iopub.status.idle": "2021-11-24T01:40:13.480742Z"
    }
   },
   "outputs": [],
   "source": [
    "#profile = pandas_profiling.ProfileReport(reddit_df)\n",
    "#profile.to_file(output_file = 'reddit_df.html')"
   ]
  },
  {
   "cell_type": "markdown",
   "metadata": {},
   "source": [
    "## Text Preprocessing"
   ]
  },
  {
   "cell_type": "markdown",
   "metadata": {},
   "source": [
    "The first step in creating a text classification model is to run the necessary preprocessing on all posts"
   ]
  },
  {
   "cell_type": "code",
   "execution_count": 8,
   "metadata": {
    "execution": {
     "iopub.execute_input": "2021-11-24T01:40:45.330243Z",
     "iopub.status.busy": "2021-11-24T01:40:45.329904Z",
     "iopub.status.idle": "2021-11-24T01:40:52.088039Z",
     "shell.execute_reply": "2021-11-24T01:40:52.087215Z",
     "shell.execute_reply.started": "2021-11-24T01:40:45.330205Z"
    }
   },
   "outputs": [
    {
     "data": {
      "text/html": [
       "<div>\n",
       "<style scoped>\n",
       "    .dataframe tbody tr th:only-of-type {\n",
       "        vertical-align: middle;\n",
       "    }\n",
       "\n",
       "    .dataframe tbody tr th {\n",
       "        vertical-align: top;\n",
       "    }\n",
       "\n",
       "    .dataframe thead th {\n",
       "        text-align: right;\n",
       "    }\n",
       "</style>\n",
       "<table border=\"1\" class=\"dataframe\">\n",
       "  <thead>\n",
       "    <tr style=\"text-align: right;\">\n",
       "      <th></th>\n",
       "      <th>Query Id</th>\n",
       "      <th>Query Name</th>\n",
       "      <th>Subreddit</th>\n",
       "      <th>Date</th>\n",
       "      <th>Title</th>\n",
       "      <th>Snippet</th>\n",
       "      <th>content</th>\n",
       "      <th>post_length</th>\n",
       "    </tr>\n",
       "  </thead>\n",
       "  <tbody>\n",
       "    <tr>\n",
       "      <th>0</th>\n",
       "      <td>2.000748e+09</td>\n",
       "      <td>Mental Health</td>\n",
       "      <td>r/Anxiety</td>\n",
       "      <td>2020-05-08</td>\n",
       "      <td>Always need a deep breathe!</td>\n",
       "      <td>...Later on I heard another woman describing a...</td>\n",
       "      <td>always need deep breathe later heard another w...</td>\n",
       "      <td>381</td>\n",
       "    </tr>\n",
       "    <tr>\n",
       "      <th>1</th>\n",
       "      <td>2.000748e+09</td>\n",
       "      <td>Mental Health</td>\n",
       "      <td>r/Anxiety</td>\n",
       "      <td>2020-04-21</td>\n",
       "      <td>Let's post good news on the coronavirus here.</td>\n",
       "      <td>Agreed! I do like a nice latte once in a while...</td>\n",
       "      <td>lets post good news coronavirus agreed like ni...</td>\n",
       "      <td>204</td>\n",
       "    </tr>\n",
       "    <tr>\n",
       "      <th>2</th>\n",
       "      <td>2.000748e+09</td>\n",
       "      <td>Mental Health</td>\n",
       "      <td>r/Anxiety</td>\n",
       "      <td>2020-08-20</td>\n",
       "      <td>Does anyone else experience back to work anxiety</td>\n",
       "      <td>Only when I hated my job (when I was in retail...</td>\n",
       "      <td>anyone else experience back work anxiety hated...</td>\n",
       "      <td>113</td>\n",
       "    </tr>\n",
       "    <tr>\n",
       "      <th>3</th>\n",
       "      <td>2.000748e+09</td>\n",
       "      <td>Mental Health</td>\n",
       "      <td>r/Anxiety</td>\n",
       "      <td>2020-05-26</td>\n",
       "      <td>I cant walk through a town or even a village o...</td>\n",
       "      <td>Does your mom keep you updated on the news on ...</td>\n",
       "      <td>cant walk town even village without mum 19 yea...</td>\n",
       "      <td>542</td>\n",
       "    </tr>\n",
       "    <tr>\n",
       "      <th>4</th>\n",
       "      <td>2.000748e+09</td>\n",
       "      <td>Mental Health</td>\n",
       "      <td>r/Anxiety</td>\n",
       "      <td>2021-08-23</td>\n",
       "      <td>Just took my medication for the first time</td>\n",
       "      <td>I remember the lead up to beginning meds (I’m ...</td>\n",
       "      <td>took medication first time remember lead begin...</td>\n",
       "      <td>394</td>\n",
       "    </tr>\n",
       "    <tr>\n",
       "      <th>...</th>\n",
       "      <td>...</td>\n",
       "      <td>...</td>\n",
       "      <td>...</td>\n",
       "      <td>...</td>\n",
       "      <td>...</td>\n",
       "      <td>...</td>\n",
       "      <td>...</td>\n",
       "      <td>...</td>\n",
       "    </tr>\n",
       "    <tr>\n",
       "      <th>18400</th>\n",
       "      <td>2.000748e+09</td>\n",
       "      <td>Mental Health</td>\n",
       "      <td>r/schizophrenia</td>\n",
       "      <td>2021-09-29</td>\n",
       "      <td>Delusions have been getting worse</td>\n",
       "      <td>I keep on thinking I have a serious sickness b...</td>\n",
       "      <td>delusions getting worse keep thinking serious ...</td>\n",
       "      <td>385</td>\n",
       "    </tr>\n",
       "    <tr>\n",
       "      <th>18401</th>\n",
       "      <td>2.000748e+09</td>\n",
       "      <td>Mental Health</td>\n",
       "      <td>r/schizophrenia</td>\n",
       "      <td>2021-08-16</td>\n",
       "      <td>First day on college campus. Pretty nervous bu...</td>\n",
       "      <td>I gotchu buddy, I've figured schizophrenia out...</td>\n",
       "      <td>first day college campus pretty nervous making...</td>\n",
       "      <td>193</td>\n",
       "    </tr>\n",
       "    <tr>\n",
       "      <th>18403</th>\n",
       "      <td>2.000748e+09</td>\n",
       "      <td>Mental Health</td>\n",
       "      <td>r/schizophrenia</td>\n",
       "      <td>2020-02-04</td>\n",
       "      <td>What is your experience with having psychosis ...</td>\n",
       "      <td>I am diagnosed with schizoaffective disorder (...</td>\n",
       "      <td>experience psychosis long many times without p...</td>\n",
       "      <td>517</td>\n",
       "    </tr>\n",
       "    <tr>\n",
       "      <th>18404</th>\n",
       "      <td>2.000748e+09</td>\n",
       "      <td>Mental Health</td>\n",
       "      <td>r/schizophrenia</td>\n",
       "      <td>2021-01-15</td>\n",
       "      <td>How should closed ones react?</td>\n",
       "      <td>Like I said I’m prospering with no medication ...</td>\n",
       "      <td>closed ones react like said ’ prospering medic...</td>\n",
       "      <td>207</td>\n",
       "    </tr>\n",
       "    <tr>\n",
       "      <th>18406</th>\n",
       "      <td>2.000748e+09</td>\n",
       "      <td>Mental Health</td>\n",
       "      <td>r/schizophrenia</td>\n",
       "      <td>2021-09-08</td>\n",
       "      <td>Do your hallucinatory entities interact with t...</td>\n",
       "      <td>Medication and a stay in the hospital stopped ...</td>\n",
       "      <td>hallucinatory entities interact real world med...</td>\n",
       "      <td>292</td>\n",
       "    </tr>\n",
       "  </tbody>\n",
       "</table>\n",
       "<p>14928 rows × 8 columns</p>\n",
       "</div>"
      ],
      "text/plain": [
       "           Query Id     Query Name        Subreddit       Date  \\\n",
       "0      2.000748e+09  Mental Health        r/Anxiety 2020-05-08   \n",
       "1      2.000748e+09  Mental Health        r/Anxiety 2020-04-21   \n",
       "2      2.000748e+09  Mental Health        r/Anxiety 2020-08-20   \n",
       "3      2.000748e+09  Mental Health        r/Anxiety 2020-05-26   \n",
       "4      2.000748e+09  Mental Health        r/Anxiety 2021-08-23   \n",
       "...             ...            ...              ...        ...   \n",
       "18400  2.000748e+09  Mental Health  r/schizophrenia 2021-09-29   \n",
       "18401  2.000748e+09  Mental Health  r/schizophrenia 2021-08-16   \n",
       "18403  2.000748e+09  Mental Health  r/schizophrenia 2020-02-04   \n",
       "18404  2.000748e+09  Mental Health  r/schizophrenia 2021-01-15   \n",
       "18406  2.000748e+09  Mental Health  r/schizophrenia 2021-09-08   \n",
       "\n",
       "                                                   Title  \\\n",
       "0                            Always need a deep breathe!   \n",
       "1          Let's post good news on the coronavirus here.   \n",
       "2       Does anyone else experience back to work anxiety   \n",
       "3      I cant walk through a town or even a village o...   \n",
       "4             Just took my medication for the first time   \n",
       "...                                                  ...   \n",
       "18400                  Delusions have been getting worse   \n",
       "18401  First day on college campus. Pretty nervous bu...   \n",
       "18403  What is your experience with having psychosis ...   \n",
       "18404                      How should closed ones react?   \n",
       "18406  Do your hallucinatory entities interact with t...   \n",
       "\n",
       "                                                 Snippet  \\\n",
       "0      ...Later on I heard another woman describing a...   \n",
       "1      Agreed! I do like a nice latte once in a while...   \n",
       "2      Only when I hated my job (when I was in retail...   \n",
       "3      Does your mom keep you updated on the news on ...   \n",
       "4      I remember the lead up to beginning meds (I’m ...   \n",
       "...                                                  ...   \n",
       "18400  I keep on thinking I have a serious sickness b...   \n",
       "18401  I gotchu buddy, I've figured schizophrenia out...   \n",
       "18403  I am diagnosed with schizoaffective disorder (...   \n",
       "18404  Like I said I’m prospering with no medication ...   \n",
       "18406  Medication and a stay in the hospital stopped ...   \n",
       "\n",
       "                                                 content  post_length  \n",
       "0      always need deep breathe later heard another w...          381  \n",
       "1      lets post good news coronavirus agreed like ni...          204  \n",
       "2      anyone else experience back work anxiety hated...          113  \n",
       "3      cant walk town even village without mum 19 yea...          542  \n",
       "4      took medication first time remember lead begin...          394  \n",
       "...                                                  ...          ...  \n",
       "18400  delusions getting worse keep thinking serious ...          385  \n",
       "18401  first day college campus pretty nervous making...          193  \n",
       "18403  experience psychosis long many times without p...          517  \n",
       "18404  closed ones react like said ’ prospering medic...          207  \n",
       "18406  hallucinatory entities interact real world med...          292  \n",
       "\n",
       "[14928 rows x 8 columns]"
      ]
     },
     "execution_count": 8,
     "metadata": {},
     "output_type": "execute_result"
    },
    {
     "name": "stdout",
     "output_type": "stream",
     "text": [
      "time: 6.75 s (started: 2021-11-24 01:40:45 +00:00)\n"
     ]
    }
   ],
   "source": [
    "#Data Cleaning - Content Field\n",
    "#Reddit posts are storied as a list of string values. To process each string value in the list, iterate the function over each string item in the list. Then return formatted lists\n",
    "# to string format\n",
    "lowercase_posts = []\n",
    "for i in reddit_df.index:\n",
    "    lowercase_posts.append(reddit_df['content'][i].lower())\n",
    "\n",
    "reddit_df['content'] = lowercase_posts\n",
    "\n",
    "#Remove punctuation from posts\n",
    "strip_punctuation = []\n",
    "for i in reddit_df.index:\n",
    "    strip_punctuation.append(reddit_df['content'][i].translate(str.maketrans('','',string.punctuation)))\n",
    "\n",
    "reddit_df['content'] = strip_punctuation\n",
    "\n",
    "#Tokenize each string input to generate list of lists containing string values\n",
    "tokenized_posts = []\n",
    "for i in reddit_df.index:\n",
    "    tokenized_posts.append(word_tokenize(reddit_df['content'][i]))\n",
    "\n",
    "reddit_df['content'] = tokenized_posts\n",
    "\n",
    "#Remove stopwords\n",
    "\n",
    "filtered_posts = []\n",
    "for i in reddit_df.index:\n",
    "    filtered_posts.append([w for w in reddit_df['content'][i] if w not in stopwords])\n",
    "    \n",
    "reddit_df['content'] = filtered_posts\n",
    "\n",
    "#Convert processed text from list to string\n",
    "\n",
    "new_strings = []\n",
    "for i in reddit_df.index:\n",
    "    new_strings.append(' '.join(reddit_df['content'][i]))\n",
    "\n",
    "reddit_df['content'] = new_strings\n",
    "\n",
    "reddit_df"
   ]
  },
  {
   "cell_type": "code",
   "execution_count": 9,
   "metadata": {
    "execution": {
     "iopub.execute_input": "2021-11-24T01:40:57.041358Z",
     "iopub.status.busy": "2021-11-24T01:40:57.041005Z",
     "iopub.status.idle": "2021-11-24T01:41:00.542997Z",
     "shell.execute_reply": "2021-11-24T01:41:00.542178Z",
     "shell.execute_reply.started": "2021-11-24T01:40:57.041320Z"
    }
   },
   "outputs": [
    {
     "data": {
      "text/html": [
       "<div>\n",
       "<style scoped>\n",
       "    .dataframe tbody tr th:only-of-type {\n",
       "        vertical-align: middle;\n",
       "    }\n",
       "\n",
       "    .dataframe tbody tr th {\n",
       "        vertical-align: top;\n",
       "    }\n",
       "\n",
       "    .dataframe thead th {\n",
       "        text-align: right;\n",
       "    }\n",
       "</style>\n",
       "<table border=\"1\" class=\"dataframe\">\n",
       "  <thead>\n",
       "    <tr style=\"text-align: right;\">\n",
       "      <th></th>\n",
       "      <th>Query Id</th>\n",
       "      <th>Query Name</th>\n",
       "      <th>Subreddit</th>\n",
       "      <th>Date</th>\n",
       "      <th>Title</th>\n",
       "      <th>Snippet</th>\n",
       "      <th>content</th>\n",
       "      <th>post_length</th>\n",
       "    </tr>\n",
       "  </thead>\n",
       "  <tbody>\n",
       "    <tr>\n",
       "      <th>0</th>\n",
       "      <td>2.000748e+09</td>\n",
       "      <td>Mental Health</td>\n",
       "      <td>r/Anxiety</td>\n",
       "      <td>2020-05-08</td>\n",
       "      <td>always need deep breathe</td>\n",
       "      <td>...Later on I heard another woman describing a...</td>\n",
       "      <td>always need deep breathe later heard another w...</td>\n",
       "      <td>381</td>\n",
       "    </tr>\n",
       "    <tr>\n",
       "      <th>1</th>\n",
       "      <td>2.000748e+09</td>\n",
       "      <td>Mental Health</td>\n",
       "      <td>r/Anxiety</td>\n",
       "      <td>2020-04-21</td>\n",
       "      <td>lets post good news coronavirus</td>\n",
       "      <td>Agreed! I do like a nice latte once in a while...</td>\n",
       "      <td>lets post good news coronavirus agreed like ni...</td>\n",
       "      <td>204</td>\n",
       "    </tr>\n",
       "    <tr>\n",
       "      <th>2</th>\n",
       "      <td>2.000748e+09</td>\n",
       "      <td>Mental Health</td>\n",
       "      <td>r/Anxiety</td>\n",
       "      <td>2020-08-20</td>\n",
       "      <td>anyone else experience back work anxiety</td>\n",
       "      <td>Only when I hated my job (when I was in retail...</td>\n",
       "      <td>anyone else experience back work anxiety hated...</td>\n",
       "      <td>113</td>\n",
       "    </tr>\n",
       "    <tr>\n",
       "      <th>3</th>\n",
       "      <td>2.000748e+09</td>\n",
       "      <td>Mental Health</td>\n",
       "      <td>r/Anxiety</td>\n",
       "      <td>2020-05-26</td>\n",
       "      <td>cant walk town even village without mum 19 yea...</td>\n",
       "      <td>Does your mom keep you updated on the news on ...</td>\n",
       "      <td>cant walk town even village without mum 19 yea...</td>\n",
       "      <td>542</td>\n",
       "    </tr>\n",
       "    <tr>\n",
       "      <th>4</th>\n",
       "      <td>2.000748e+09</td>\n",
       "      <td>Mental Health</td>\n",
       "      <td>r/Anxiety</td>\n",
       "      <td>2021-08-23</td>\n",
       "      <td>took medication first time</td>\n",
       "      <td>I remember the lead up to beginning meds (I’m ...</td>\n",
       "      <td>took medication first time remember lead begin...</td>\n",
       "      <td>394</td>\n",
       "    </tr>\n",
       "    <tr>\n",
       "      <th>...</th>\n",
       "      <td>...</td>\n",
       "      <td>...</td>\n",
       "      <td>...</td>\n",
       "      <td>...</td>\n",
       "      <td>...</td>\n",
       "      <td>...</td>\n",
       "      <td>...</td>\n",
       "      <td>...</td>\n",
       "    </tr>\n",
       "    <tr>\n",
       "      <th>18400</th>\n",
       "      <td>2.000748e+09</td>\n",
       "      <td>Mental Health</td>\n",
       "      <td>r/schizophrenia</td>\n",
       "      <td>2021-09-29</td>\n",
       "      <td>delusions getting worse</td>\n",
       "      <td>I keep on thinking I have a serious sickness b...</td>\n",
       "      <td>delusions getting worse keep thinking serious ...</td>\n",
       "      <td>385</td>\n",
       "    </tr>\n",
       "    <tr>\n",
       "      <th>18401</th>\n",
       "      <td>2.000748e+09</td>\n",
       "      <td>Mental Health</td>\n",
       "      <td>r/schizophrenia</td>\n",
       "      <td>2021-08-16</td>\n",
       "      <td>first day college campus pretty nervous making...</td>\n",
       "      <td>I gotchu buddy, I've figured schizophrenia out...</td>\n",
       "      <td>first day college campus pretty nervous making...</td>\n",
       "      <td>193</td>\n",
       "    </tr>\n",
       "    <tr>\n",
       "      <th>18403</th>\n",
       "      <td>2.000748e+09</td>\n",
       "      <td>Mental Health</td>\n",
       "      <td>r/schizophrenia</td>\n",
       "      <td>2020-02-04</td>\n",
       "      <td>experience psychosis long many times without p...</td>\n",
       "      <td>I am diagnosed with schizoaffective disorder (...</td>\n",
       "      <td>experience psychosis long many times without p...</td>\n",
       "      <td>517</td>\n",
       "    </tr>\n",
       "    <tr>\n",
       "      <th>18404</th>\n",
       "      <td>2.000748e+09</td>\n",
       "      <td>Mental Health</td>\n",
       "      <td>r/schizophrenia</td>\n",
       "      <td>2021-01-15</td>\n",
       "      <td>closed ones react</td>\n",
       "      <td>Like I said I’m prospering with no medication ...</td>\n",
       "      <td>closed ones react like said ’ prospering medic...</td>\n",
       "      <td>207</td>\n",
       "    </tr>\n",
       "    <tr>\n",
       "      <th>18406</th>\n",
       "      <td>2.000748e+09</td>\n",
       "      <td>Mental Health</td>\n",
       "      <td>r/schizophrenia</td>\n",
       "      <td>2021-09-08</td>\n",
       "      <td>hallucinatory entities interact real world</td>\n",
       "      <td>Medication and a stay in the hospital stopped ...</td>\n",
       "      <td>hallucinatory entities interact real world med...</td>\n",
       "      <td>292</td>\n",
       "    </tr>\n",
       "  </tbody>\n",
       "</table>\n",
       "<p>14928 rows × 8 columns</p>\n",
       "</div>"
      ],
      "text/plain": [
       "           Query Id     Query Name        Subreddit       Date  \\\n",
       "0      2.000748e+09  Mental Health        r/Anxiety 2020-05-08   \n",
       "1      2.000748e+09  Mental Health        r/Anxiety 2020-04-21   \n",
       "2      2.000748e+09  Mental Health        r/Anxiety 2020-08-20   \n",
       "3      2.000748e+09  Mental Health        r/Anxiety 2020-05-26   \n",
       "4      2.000748e+09  Mental Health        r/Anxiety 2021-08-23   \n",
       "...             ...            ...              ...        ...   \n",
       "18400  2.000748e+09  Mental Health  r/schizophrenia 2021-09-29   \n",
       "18401  2.000748e+09  Mental Health  r/schizophrenia 2021-08-16   \n",
       "18403  2.000748e+09  Mental Health  r/schizophrenia 2020-02-04   \n",
       "18404  2.000748e+09  Mental Health  r/schizophrenia 2021-01-15   \n",
       "18406  2.000748e+09  Mental Health  r/schizophrenia 2021-09-08   \n",
       "\n",
       "                                                   Title  \\\n",
       "0                               always need deep breathe   \n",
       "1                        lets post good news coronavirus   \n",
       "2               anyone else experience back work anxiety   \n",
       "3      cant walk town even village without mum 19 yea...   \n",
       "4                             took medication first time   \n",
       "...                                                  ...   \n",
       "18400                            delusions getting worse   \n",
       "18401  first day college campus pretty nervous making...   \n",
       "18403  experience psychosis long many times without p...   \n",
       "18404                                  closed ones react   \n",
       "18406         hallucinatory entities interact real world   \n",
       "\n",
       "                                                 Snippet  \\\n",
       "0      ...Later on I heard another woman describing a...   \n",
       "1      Agreed! I do like a nice latte once in a while...   \n",
       "2      Only when I hated my job (when I was in retail...   \n",
       "3      Does your mom keep you updated on the news on ...   \n",
       "4      I remember the lead up to beginning meds (I’m ...   \n",
       "...                                                  ...   \n",
       "18400  I keep on thinking I have a serious sickness b...   \n",
       "18401  I gotchu buddy, I've figured schizophrenia out...   \n",
       "18403  I am diagnosed with schizoaffective disorder (...   \n",
       "18404  Like I said I’m prospering with no medication ...   \n",
       "18406  Medication and a stay in the hospital stopped ...   \n",
       "\n",
       "                                                 content  post_length  \n",
       "0      always need deep breathe later heard another w...          381  \n",
       "1      lets post good news coronavirus agreed like ni...          204  \n",
       "2      anyone else experience back work anxiety hated...          113  \n",
       "3      cant walk town even village without mum 19 yea...          542  \n",
       "4      took medication first time remember lead begin...          394  \n",
       "...                                                  ...          ...  \n",
       "18400  delusions getting worse keep thinking serious ...          385  \n",
       "18401  first day college campus pretty nervous making...          193  \n",
       "18403  experience psychosis long many times without p...          517  \n",
       "18404  closed ones react like said ’ prospering medic...          207  \n",
       "18406  hallucinatory entities interact real world med...          292  \n",
       "\n",
       "[14928 rows x 8 columns]"
      ]
     },
     "execution_count": 9,
     "metadata": {},
     "output_type": "execute_result"
    },
    {
     "name": "stdout",
     "output_type": "stream",
     "text": [
      "time: 3.5 s (started: 2021-11-24 01:40:57 +00:00)\n"
     ]
    }
   ],
   "source": [
    "#Data Cleaning - Title Field\n",
    "#Reddit posts are storied as a list of string values. To process each string value in the list, iterate the function over each string item in the list. Then return formatted lists\n",
    "# to string format\n",
    "\n",
    "lowercase_posts = []\n",
    "for i in reddit_df.index:\n",
    "    lowercase_posts.append(reddit_df['Title'][i].lower())\n",
    "\n",
    "reddit_df['Title'] = lowercase_posts\n",
    "\n",
    "#Remove punctuation from posts\n",
    "strip_punctuation = []\n",
    "for i in reddit_df.index:\n",
    "    strip_punctuation.append(reddit_df['Title'][i].translate(str.maketrans('','',string.punctuation)))\n",
    "\n",
    "reddit_df['Title'] = strip_punctuation\n",
    "\n",
    "#Tokenize each string input to generate list of lists containing string values\n",
    "tokenized_posts = []\n",
    "for i in reddit_df.index:\n",
    "    tokenized_posts.append(word_tokenize(reddit_df['Title'][i]))\n",
    "\n",
    "reddit_df['Title'] = tokenized_posts\n",
    "\n",
    "#Remove stopwords\n",
    "\n",
    "filtered_posts = []\n",
    "for i in reddit_df.index:\n",
    "    filtered_posts.append([w for w in reddit_df['Title'][i] if w not in stopwords])\n",
    "    \n",
    "reddit_df['Title'] = filtered_posts\n",
    "\n",
    "#Convert processed text from list to string\n",
    "\n",
    "new_strings = []\n",
    "for i in reddit_df.index:\n",
    "    new_strings.append(' '.join(reddit_df['Title'][i]))\n",
    "\n",
    "reddit_df['Title'] = new_strings\n",
    "\n",
    "reddit_df"
   ]
  },
  {
   "cell_type": "code",
   "execution_count": 10,
   "metadata": {
    "execution": {
     "iopub.execute_input": "2021-11-24T01:41:03.911328Z",
     "iopub.status.busy": "2021-11-24T01:41:03.910982Z",
     "iopub.status.idle": "2021-11-24T01:41:08.005902Z",
     "shell.execute_reply": "2021-11-24T01:41:08.004765Z",
     "shell.execute_reply.started": "2021-11-24T01:41:03.911290Z"
    }
   },
   "outputs": [
    {
     "name": "stdout",
     "output_type": "stream",
     "text": [
      "time: 4.09 s (started: 2021-11-24 01:41:03 +00:00)\n"
     ]
    }
   ],
   "source": [
    "#After initial run through, it was noticed that many similar terms occur more than once in listing of highly correlated terms within categories. To offset this, a lemmatization step is added. This step reduced words\n",
    "#to their lemma, removing inflections and reducing redundant words. The analysis is run again to see if there is an improvement in model accuracy.\n",
    "wn = WordNetLemmatizer()\n",
    "lemmatized_posts = []\n",
    "\n",
    "for i in reddit_df.index:\n",
    "    lemmatized_content = []\n",
    "    post = reddit_df['content'][i]\n",
    "    post_words = post.split(\" \")\n",
    "    for word in post_words:\n",
    "        lemmatized_content.append(wn.lemmatize(word, pos='v'))\n",
    "    lemmatized_post = \" \".join(lemmatized_content)\n",
    "    lemmatized_posts.append(lemmatized_post)\n",
    "\n",
    "reddit_df['content'] = lemmatized_posts\n"
   ]
  },
  {
   "cell_type": "code",
   "execution_count": null,
   "metadata": {
    "execution": {
     "iopub.status.busy": "2021-11-24T01:40:13.484848Z",
     "iopub.status.idle": "2021-11-24T01:40:13.485138Z"
    }
   },
   "outputs": [],
   "source": [
    "reddit_df['content'][1]"
   ]
  },
  {
   "cell_type": "markdown",
   "metadata": {},
   "source": [
    "## Topic Analysis within Mental Health indications"
   ]
  },
  {
   "cell_type": "markdown",
   "metadata": {},
   "source": [
    "As an intitial step, we can get a sense of the most frequently occuring terms & conversation topics within each Subreddit using a WordCloud analysis"
   ]
  },
  {
   "cell_type": "code",
   "execution_count": null,
   "metadata": {
    "execution": {
     "iopub.status.busy": "2021-11-24T01:40:13.486013Z",
     "iopub.status.idle": "2021-11-24T01:40:13.486456Z"
    }
   },
   "outputs": [],
   "source": [
    "#Generate wordclouds for each subreddit and save the output to an image file\n",
    "overall_wc = WordCloud(stopwords = stopwords, max_font_size=50, max_words=100, background_color=\"white\").generate(str(reddit_df['content']))\n",
    "overall_wc.to_file('overall.jpg')\n",
    "\n",
    "depression_wc = WordCloud(stopwords = stopwords, max_font_size=50, max_words=100, background_color=\"white\").generate(str(reddit_df['content'][reddit_df.Subreddit.eq('r/Depression')]))\n",
    "depression_wc.to_file('depression.jpg')\n",
    "\n",
    "anxiety_wc = WordCloud(stopwords = stopwords, max_font_size=50, max_words=100, background_color=\"white\").generate(str(reddit_df['content'][reddit_df.Subreddit.eq('r/Anxiety')]))\n",
    "anxiety_wc.to_file('anxiety.jpg')\n",
    "\n",
    "\n",
    "schizophrenia_wc = WordCloud(stopwords = stopwords, max_font_size=50, max_words=100, background_color=\"white\").generate(str(reddit_df['content'][reddit_df.Subreddit.eq('r/schizophrenia')]))\n",
    "schizophrenia_wc.to_file('schizophrenia.jpg')\n",
    "\n",
    "bipolar_wc = WordCloud(stopwords = stopwords, max_font_size=50, max_words=100, background_color=\"white\").generate(str(reddit_df['content'][reddit_df.Subreddit.eq('r/bipolar')]))\n",
    "bipolar_wc.to_file('bipolar.jpg')\n",
    "\n",
    "\n",
    "#Set up figure\n",
    "fig = plt.figure(figsize=(12,9))\n",
    "\n",
    "rows=2\n",
    "columns = 2\n",
    "\n",
    "#Read images and add to figure\n",
    "fig.add_subplot(rows, columns, 1)\n",
    "plt.imshow(cv2.imread('depression.jpg'))\n",
    "plt.axis('off')\n",
    "plt.title('Depression')\n",
    "\n",
    "fig.add_subplot(rows, columns, 2)\n",
    "plt.imshow(cv2.imread('anxiety.jpg'))\n",
    "plt.axis('off')\n",
    "plt.title('Anxiety')\n",
    "\n",
    "\n",
    "fig.add_subplot(rows, columns, 3)\n",
    "plt.imshow(cv2.imread('schizophrenia.jpg'))\n",
    "plt.axis('off')\n",
    "plt.title('Schizophrenia')\n",
    "\n",
    "fig.add_subplot(rows, columns, 4)\n",
    "plt.imshow(cv2.imread('bipolar.jpg'))\n",
    "plt.axis('off')\n",
    "plt.title('Bipolar')\n",
    "\n",
    "plt.show()"
   ]
  },
  {
   "cell_type": "markdown",
   "metadata": {},
   "source": [
    "## Predictive Model for Text Classification"
   ]
  },
  {
   "cell_type": "markdown",
   "metadata": {},
   "source": [
    "Numeric values are assigned to mental health categories by creating a dictionary of key value pairs in order to format the data for input into predictive models."
   ]
  },
  {
   "cell_type": "code",
   "execution_count": 11,
   "metadata": {
    "execution": {
     "iopub.execute_input": "2021-11-24T01:41:11.197114Z",
     "iopub.status.busy": "2021-11-24T01:41:11.196763Z",
     "iopub.status.idle": "2021-11-24T01:41:11.228061Z",
     "shell.execute_reply": "2021-11-24T01:41:11.227061Z",
     "shell.execute_reply.started": "2021-11-24T01:41:11.197064Z"
    }
   },
   "outputs": [
    {
     "data": {
      "text/html": [
       "<div>\n",
       "<style scoped>\n",
       "    .dataframe tbody tr th:only-of-type {\n",
       "        vertical-align: middle;\n",
       "    }\n",
       "\n",
       "    .dataframe tbody tr th {\n",
       "        vertical-align: top;\n",
       "    }\n",
       "\n",
       "    .dataframe thead th {\n",
       "        text-align: right;\n",
       "    }\n",
       "</style>\n",
       "<table border=\"1\" class=\"dataframe\">\n",
       "  <thead>\n",
       "    <tr style=\"text-align: right;\">\n",
       "      <th></th>\n",
       "      <th>Query Id</th>\n",
       "      <th>Query Name</th>\n",
       "      <th>Subreddit</th>\n",
       "      <th>Date</th>\n",
       "      <th>Title</th>\n",
       "      <th>Snippet</th>\n",
       "      <th>content</th>\n",
       "      <th>post_length</th>\n",
       "      <th>topic_code</th>\n",
       "    </tr>\n",
       "  </thead>\n",
       "  <tbody>\n",
       "    <tr>\n",
       "      <th>0</th>\n",
       "      <td>2.000748e+09</td>\n",
       "      <td>Mental Health</td>\n",
       "      <td>r/Anxiety</td>\n",
       "      <td>2020-05-08</td>\n",
       "      <td>always need deep breathe</td>\n",
       "      <td>...Later on I heard another woman describing a...</td>\n",
       "      <td>always need deep breathe later hear another wo...</td>\n",
       "      <td>381</td>\n",
       "      <td>1</td>\n",
       "    </tr>\n",
       "    <tr>\n",
       "      <th>1</th>\n",
       "      <td>2.000748e+09</td>\n",
       "      <td>Mental Health</td>\n",
       "      <td>r/Anxiety</td>\n",
       "      <td>2020-04-21</td>\n",
       "      <td>lets post good news coronavirus</td>\n",
       "      <td>Agreed! I do like a nice latte once in a while...</td>\n",
       "      <td>let post good news coronavirus agree like nice...</td>\n",
       "      <td>204</td>\n",
       "      <td>1</td>\n",
       "    </tr>\n",
       "    <tr>\n",
       "      <th>2</th>\n",
       "      <td>2.000748e+09</td>\n",
       "      <td>Mental Health</td>\n",
       "      <td>r/Anxiety</td>\n",
       "      <td>2020-08-20</td>\n",
       "      <td>anyone else experience back work anxiety</td>\n",
       "      <td>Only when I hated my job (when I was in retail...</td>\n",
       "      <td>anyone else experience back work anxiety hat j...</td>\n",
       "      <td>113</td>\n",
       "      <td>1</td>\n",
       "    </tr>\n",
       "    <tr>\n",
       "      <th>3</th>\n",
       "      <td>2.000748e+09</td>\n",
       "      <td>Mental Health</td>\n",
       "      <td>r/Anxiety</td>\n",
       "      <td>2020-05-26</td>\n",
       "      <td>cant walk town even village without mum 19 yea...</td>\n",
       "      <td>Does your mom keep you updated on the news on ...</td>\n",
       "      <td>cant walk town even village without mum 19 yea...</td>\n",
       "      <td>542</td>\n",
       "      <td>1</td>\n",
       "    </tr>\n",
       "    <tr>\n",
       "      <th>4</th>\n",
       "      <td>2.000748e+09</td>\n",
       "      <td>Mental Health</td>\n",
       "      <td>r/Anxiety</td>\n",
       "      <td>2021-08-23</td>\n",
       "      <td>took medication first time</td>\n",
       "      <td>I remember the lead up to beginning meds (I’m ...</td>\n",
       "      <td>take medication first time remember lead begin...</td>\n",
       "      <td>394</td>\n",
       "      <td>1</td>\n",
       "    </tr>\n",
       "  </tbody>\n",
       "</table>\n",
       "</div>"
      ],
      "text/plain": [
       "       Query Id     Query Name  Subreddit       Date  \\\n",
       "0  2.000748e+09  Mental Health  r/Anxiety 2020-05-08   \n",
       "1  2.000748e+09  Mental Health  r/Anxiety 2020-04-21   \n",
       "2  2.000748e+09  Mental Health  r/Anxiety 2020-08-20   \n",
       "3  2.000748e+09  Mental Health  r/Anxiety 2020-05-26   \n",
       "4  2.000748e+09  Mental Health  r/Anxiety 2021-08-23   \n",
       "\n",
       "                                               Title  \\\n",
       "0                           always need deep breathe   \n",
       "1                    lets post good news coronavirus   \n",
       "2           anyone else experience back work anxiety   \n",
       "3  cant walk town even village without mum 19 yea...   \n",
       "4                         took medication first time   \n",
       "\n",
       "                                             Snippet  \\\n",
       "0  ...Later on I heard another woman describing a...   \n",
       "1  Agreed! I do like a nice latte once in a while...   \n",
       "2  Only when I hated my job (when I was in retail...   \n",
       "3  Does your mom keep you updated on the news on ...   \n",
       "4  I remember the lead up to beginning meds (I’m ...   \n",
       "\n",
       "                                             content  post_length  topic_code  \n",
       "0  always need deep breathe later hear another wo...          381           1  \n",
       "1  let post good news coronavirus agree like nice...          204           1  \n",
       "2  anyone else experience back work anxiety hat j...          113           1  \n",
       "3  cant walk town even village without mum 19 yea...          542           1  \n",
       "4  take medication first time remember lead begin...          394           1  "
      ]
     },
     "execution_count": 11,
     "metadata": {},
     "output_type": "execute_result"
    },
    {
     "name": "stdout",
     "output_type": "stream",
     "text": [
      "time: 26.3 ms (started: 2021-11-24 01:41:11 +00:00)\n"
     ]
    }
   ],
   "source": [
    "topic_codes = {'r/Depression' : 0,\n",
    "                      'r/Anxiety' : 1,\n",
    "                      'r/bipolar' : 2,\n",
    "                      'r/schizophrenia' : 3}\n",
    "\n",
    "reddit_df['topic_code'] = reddit_df['Subreddit']\n",
    "reddit_df = reddit_df.replace({'topic_code':topic_codes})\n",
    "\n",
    "reddit_df.head()"
   ]
  },
  {
   "cell_type": "markdown",
   "metadata": {},
   "source": [
    "## TF-IDF"
   ]
  },
  {
   "cell_type": "markdown",
   "metadata": {},
   "source": [
    "TF-IDF Vectors will be used as features to train our predictive model. TF-IDF scores represent the relative importance of terms in both documents and the entire corpus. In this case, each reddit post within subreddit represents a \"document\" and the entire set of reddit posts within a subreddit represents our corpus.\n",
    "\n",
    "In order to convert text into a machine-learning readable format, the text must have a numeric representation. TF-IDF achieves this by assigning a score to each term in our posts that capture the relative importance of the term in the document. \n",
    "\n",
    "***Definitions:***\n",
    "\n",
    "**Term Frequency (TF):**\n",
    "\n",
    "A normalized measure of how frequently a term appears in a document. In this measure, it is assummed that words which appear more frequently are of greater importance\n",
    "\n",
    "tf(w) = count(w)/total words in document\n",
    "\n",
    "**Inverse Document Frequency (IDF):**\n",
    "\n",
    "IDF helps to reduce the importance of terms that have a high term frequency, but are very common across all documents and are therefore have less impact on the meaning of a post.A measure of how \"important\" a term is by assessing how common it is across all documents.\n",
    "\n",
    "idf(w) = log(total number of documents/number of documents containing w)\n",
    "\n",
    "\n",
    "**TF-IDF:** \n",
    "\n",
    "The product of term frequency and inverse document frequency. This gives us a normalized score for how important a word is within a document.\n",
    "\n",
    "tf-idf(w) = tf(w) * idf(w)\n",
    "\n"
   ]
  },
  {
   "cell_type": "markdown",
   "metadata": {},
   "source": [
    "**Here, the parameters are set for TF-IDF vectorization.**\n",
    "\n",
    "Parameters:\n",
    "\n",
    "ngram_range: The upper and lower boundary of the range of n-values for different n-grams to be extracted. n-grams are continuous sequences of characters that appear sequentally. \n",
    "Setting ngram_range to (1,1) instructs the algorithm to extract only single words (unigrams). This can also be set to both unigrams and bigrams (1,2), or only bigrams (2,2).\n",
    "\n",
    "min_df = This instructs the algorithm to ignore terms which have a document frequency lower than the given threshold. Document Frequency is the number of documents (posts) containing\n",
    "a particular term.\n",
    "\n",
    "max_df = This instructs the algorithm to ignore terms which have a document frequency higher than the given threshold.\n",
    "\n",
    "max_features = The maximum amount of features to accept per document. We will set this to 500 (well above average post length) to capture all features.\n",
    "\n",
    "stop_words = Words to exclude from feature list. We will use the stopwords variable which has already been prepared."
   ]
  },
  {
   "cell_type": "code",
   "execution_count": null,
   "metadata": {
    "execution": {
     "iopub.status.busy": "2021-11-24T01:40:13.493263Z",
     "iopub.status.idle": "2021-11-24T01:40:13.493531Z"
    }
   },
   "outputs": [],
   "source": [
    "#Check which words occur most frequently in the training dataset:\n",
    "wordcounts = Counter(' '.join(x_train).split()).most_common()\n",
    "wordcounts[:25]"
   ]
  },
  {
   "cell_type": "code",
   "execution_count": null,
   "metadata": {
    "execution": {
     "iopub.status.busy": "2021-11-24T01:40:13.494271Z",
     "iopub.status.idle": "2021-11-24T01:40:13.494538Z"
    }
   },
   "outputs": [],
   "source": [
    "#View words used as features in TFIDF\n",
    "features_example = tfidf.get_feature_names()\n",
    "features_example[:25]"
   ]
  },
  {
   "cell_type": "markdown",
   "metadata": {},
   "source": [
    "Each document is now transformed into a TF-IDF vector for our training and test model. Each vector represents a document, with the numbers corresponding to the TF-IDF score for each word in the document. Fitting is performed only on the training data, as testing data should be used only to evaluate the model (model should not be fit to testing data)."
   ]
  },
  {
   "cell_type": "code",
   "execution_count": null,
   "metadata": {
    "execution": {
     "iopub.status.busy": "2021-11-24T01:40:13.495432Z",
     "iopub.status.idle": "2021-11-24T01:40:13.495699Z"
    }
   },
   "outputs": [],
   "source": [
    "#Example: TF-IDF scores for one post in training set\n",
    "feature_scores = dict(zip(tfidf.get_feature_names(), features_train[1])) #Can use this function to view the TF-IDF scores of any given post for x_train by changing features_train index\n",
    "example = sorted(feature_scores.items(), key = lambda x: x[1], reverse=True)\n",
    "example[:25]\n"
   ]
  },
  {
   "cell_type": "code",
   "execution_count": null,
   "metadata": {
    "execution": {
     "iopub.status.busy": "2021-11-24T01:40:13.496631Z",
     "iopub.status.idle": "2021-11-24T01:40:13.496892Z"
    }
   },
   "outputs": [],
   "source": [
    "#reddit_df.to_csv('reddit_df.csv')"
   ]
  },
  {
   "cell_type": "markdown",
   "metadata": {},
   "source": [
    "In order to understand how closely correlated a feature is to a mental health indication, we can use a Chi squared test. This function will compute the chi-squared test statistics between each feature (term) and class (mental health indication). Because chi2 tests measure the dependence between variables, we are able to select only features which are most likely to be highly dependent on class, and are therefore more relevant for classification. Using this information, we can return the unigrams and bigrams that are most closely associated with each mental health topic. In this case we see that there is quite a lot of crossover among the most highly correlated unigrams in each category, which may impact the models performance."
   ]
  },
  {
   "cell_type": "code",
   "execution_count": null,
   "metadata": {
    "execution": {
     "iopub.status.busy": "2021-11-24T01:40:13.497598Z",
     "iopub.status.idle": "2021-11-24T01:40:13.497859Z"
    }
   },
   "outputs": [],
   "source": [
    "for Subreddit, topic_code in sorted(topic_codes.items()):\n",
    "    features_chi2 = chi2(features_train, labels_train == topic_code)\n",
    "    indices = np.argsort(features_chi2[0])\n",
    "    feature_names = np.array(tfidf.get_feature_names())[indices]\n",
    "    unigrams = [w for w in feature_names if len(w.split(' '))==1]\n",
    "    bigrams = [w for w in feature_names if len(w.split(' '))==2]\n",
    "    print(\"# '{}':\".format(Subreddit))\n",
    "    print(\"  . Top correlated unigrams:\\n    . {}\".format('\\n    . '.join(unigrams[-10:])))\n",
    "    print(\"  . Top correlated bigrams:\\n    . {}\".format('\\n    . '.join(bigrams[-3:])))"
   ]
  },
  {
   "cell_type": "markdown",
   "metadata": {},
   "source": [
    "## Model Evaluation - Train Test Split"
   ]
  },
  {
   "cell_type": "code",
   "execution_count": 12,
   "metadata": {
    "execution": {
     "iopub.execute_input": "2021-11-24T01:41:29.196201Z",
     "iopub.status.busy": "2021-11-24T01:41:29.195844Z",
     "iopub.status.idle": "2021-11-24T01:41:29.201608Z",
     "shell.execute_reply": "2021-11-24T01:41:29.200539Z",
     "shell.execute_reply.started": "2021-11-24T01:41:29.196164Z"
    }
   },
   "outputs": [
    {
     "name": "stdout",
     "output_type": "stream",
     "text": [
      "time: 871 µs (started: 2021-11-24 01:41:29 +00:00)\n"
     ]
    }
   ],
   "source": [
    "ngram_range = (1,2)\n",
    "min_df = 0\n",
    "max_df = 1.0\n",
    "max_features = 500  \n",
    "stop_words = stopwords"
   ]
  },
  {
   "cell_type": "code",
   "execution_count": 38,
   "metadata": {
    "execution": {
     "iopub.execute_input": "2021-11-24T02:21:24.279400Z",
     "iopub.status.busy": "2021-11-24T02:21:24.279063Z",
     "iopub.status.idle": "2021-11-24T02:21:25.928396Z",
     "shell.execute_reply": "2021-11-24T02:21:25.927545Z",
     "shell.execute_reply.started": "2021-11-24T02:21:24.279368Z"
    }
   },
   "outputs": [
    {
     "name": "stdout",
     "output_type": "stream",
     "text": [
      "(11942, 500)\n",
      "(2986, 500)\n",
      "time: 1.64 s (started: 2021-11-24 02:21:24 +00:00)\n"
     ]
    }
   ],
   "source": [
    "#First run - here a simple train test split is used with no cross validation\n",
    "\n",
    "x_train, x_test, y_train, y_test = train_test_split(reddit_df['content'], reddit_df['topic_code'], test_size = 0.20, random_state=8)\n",
    "\n",
    "tfidf = TfidfVectorizer(encoding = 'utf-8', \n",
    "                       ngram_range = ngram_range,\n",
    "                       min_df = min_df,\n",
    "                       max_df = max_df,\n",
    "                       lowercase=False, \n",
    "                       max_features = max_features,\n",
    "                       stop_words = None, \n",
    "                       norm = 'l2', \n",
    "                       sublinear_tf = True)\n",
    "\n",
    "features_train = tfidf.fit_transform(x_train).toarray()\n",
    "labels_train = y_train\n",
    "print(features_train.shape)\n",
    "\n",
    "features_test = tfidf.transform(x_test).toarray()\n",
    "labels_test = y_test\n",
    "print(features_test.shape)\n"
   ]
  },
  {
   "cell_type": "code",
   "execution_count": 39,
   "metadata": {
    "execution": {
     "iopub.execute_input": "2021-11-24T02:21:29.748022Z",
     "iopub.status.busy": "2021-11-24T02:21:29.747717Z",
     "iopub.status.idle": "2021-11-24T02:21:31.648595Z",
     "shell.execute_reply": "2021-11-24T02:21:31.647566Z",
     "shell.execute_reply.started": "2021-11-24T02:21:29.747990Z"
    }
   },
   "outputs": [
    {
     "name": "stdout",
     "output_type": "stream",
     "text": [
      "(14928, 500)\n",
      "time: 1.9 s (started: 2021-11-24 02:21:29 +00:00)\n"
     ]
    }
   ],
   "source": [
    "#Here data is prepared for use with cross_val_scores, using KFold cross validation\n",
    "tfidf = TfidfVectorizer(encoding = 'utf-8', \n",
    "                       ngram_range = ngram_range,\n",
    "                       min_df = min_df,\n",
    "                       max_df = max_df,\n",
    "                       lowercase=False, \n",
    "                       max_features = max_features,\n",
    "                       stop_words = None, \n",
    "                       norm = 'l2', \n",
    "                       sublinear_tf = True)\n",
    "\n",
    "x = tfidf.fit_transform(reddit_df['content']).toarray()\n",
    "y = reddit_df['topic_code']\n",
    "print(x.shape)"
   ]
  },
  {
   "cell_type": "markdown",
   "metadata": {},
   "source": [
    "### Naive Bayes"
   ]
  },
  {
   "cell_type": "code",
   "execution_count": 18,
   "metadata": {
    "execution": {
     "iopub.execute_input": "2021-11-24T01:44:58.665199Z",
     "iopub.status.busy": "2021-11-24T01:44:58.664825Z",
     "iopub.status.idle": "2021-11-24T01:44:58.670605Z",
     "shell.execute_reply": "2021-11-24T01:44:58.669682Z",
     "shell.execute_reply.started": "2021-11-24T01:44:58.665153Z"
    }
   },
   "outputs": [
    {
     "name": "stdout",
     "output_type": "stream",
     "text": [
      "{'alpha': 1.0, 'class_prior': None, 'fit_prior': True}\n",
      "time: 1.41 ms (started: 2021-11-24 01:44:58 +00:00)\n"
     ]
    }
   ],
   "source": [
    "#Get current parameters\n",
    "from sklearn.naive_bayes import MultinomialNB\n",
    "mnb = MultinomialNB()\n",
    "print(mnb.get_params())\n",
    "\n",
    "#For Naive Bayes, the parameters will be left unchanged"
   ]
  },
  {
   "cell_type": "code",
   "execution_count": 45,
   "metadata": {
    "execution": {
     "iopub.execute_input": "2021-11-24T02:23:08.677078Z",
     "iopub.status.busy": "2021-11-24T02:23:08.676770Z",
     "iopub.status.idle": "2021-11-24T02:23:09.966032Z",
     "shell.execute_reply": "2021-11-24T02:23:09.965018Z",
     "shell.execute_reply.started": "2021-11-24T02:23:08.677045Z"
    }
   },
   "outputs": [
    {
     "data": {
      "text/plain": [
       "{'Naive Bayes': 0.7759248252344723}"
      ]
     },
     "execution_count": 45,
     "metadata": {},
     "output_type": "execute_result"
    },
    {
     "name": "stdout",
     "output_type": "stream",
     "text": [
      "time: 1.28 s (started: 2021-11-24 02:23:08 +00:00)\n"
     ]
    }
   ],
   "source": [
    "#Using KFold cross validation. Splitting into train and test data is taken care of for each iteration, so declaring x_train, x_test etc. is not necessary\n",
    "scores = cross_val_score(mnb, x, y, cv=10, scoring = 'accuracy')\n",
    "model_evaluation_kfold_mnb = {'Accuracy': scores.mean()}\n",
    "\n",
    "scores = cross_val_score(mnb, x, y, cv=10, scoring = 'precision')\n",
    "model_evaluation_kfold_mnb.update = {'Precision': scores.mean()}\n",
    "\n",
    "scores = cross_val_score(mnb, x, y, cv=10, scoring = 'recall')\n",
    "model_evaluation_kfold_mnb.update = {'Recall': scores.mean()}"
   ]
  },
  {
   "cell_type": "code",
   "execution_count": 44,
   "metadata": {
    "execution": {
     "iopub.execute_input": "2021-11-24T02:22:37.501100Z",
     "iopub.status.busy": "2021-11-24T02:22:37.500783Z",
     "iopub.status.idle": "2021-11-24T02:22:37.971562Z",
     "shell.execute_reply": "2021-11-24T02:22:37.970679Z",
     "shell.execute_reply.started": "2021-11-24T02:22:37.501059Z"
    }
   },
   "outputs": [
    {
     "name": "stdout",
     "output_type": "stream",
     "text": [
      "Multiple Naive Bayes Classification Report\n",
      "              precision    recall  f1-score   support\n",
      "\n",
      "           0       0.71      0.83      0.77       932\n",
      "           1       0.79      0.82      0.81       865\n",
      "           2       0.81      0.68      0.74       639\n",
      "           3       0.86      0.71      0.78       550\n",
      "\n",
      "    accuracy                           0.78      2986\n",
      "   macro avg       0.79      0.76      0.77      2986\n",
      "weighted avg       0.78      0.78      0.78      2986\n",
      "\n"
     ]
    },
    {
     "data": {
      "text/plain": [
       "{'Naive Bayes': [0.792162116898342, 0.7756195579370395]}"
      ]
     },
     "execution_count": 44,
     "metadata": {},
     "output_type": "execute_result"
    },
    {
     "data": {
      "image/png": "[encoded data removed]",
      "text/plain": [
       "<Figure size 640x480 with 2 Axes>"
      ]
     },
     "metadata": {
      "needs_background": "light"
     },
     "output_type": "display_data"
    },
    {
     "name": "stdout",
     "output_type": "stream",
     "text": [
      "time: 465 ms (started: 2021-11-24 02:22:37 +00:00)\n"
     ]
    }
   ],
   "source": [
    "#To generate Confusion Matrix, use train test split as a sample and perform \n",
    "from sklearn.naive_bayes import MultinomialNB\n",
    "mnb = MultinomialNB()\n",
    "\n",
    "#Fit model to training data\n",
    "mnb_model = mnb.fit(features_train, labels_train)\n",
    "\n",
    "#Predict outputs from the model using our test data\n",
    "mnb_predictions = mnb_model.predict(features_test)\n",
    "\n",
    "#Print model evaluation report\n",
    "print (\"Multiple Naive Bayes Classification Report\")\n",
    "print(classification_report(labels_test, mnb_predictions))\n",
    "\n",
    "#Confusion Matrix\n",
    "\n",
    "figure(figsize=(8, 6), dpi=80)\n",
    "cfmatrix = confusion_matrix(labels_test, mnb_predictions)\n",
    "sns.heatmap(cfmatrix, annot=True, xticklabels=['Depression','Anxiety','Bipolar','Schizophrenia'], yticklabels=['Depression','Anxiety','Bipolar','Schizophrenia'])\n",
    "plt.ylabel('Predicted')\n",
    "plt.xlabel('Actual')\n",
    "plt.title('Naive Bayes Confusion Matrix')\n",
    "\n",
    "#Create dictionary to store values for model comparison. Include model accuracy on both Training and Testing data to ensure model isn't overfit\n",
    "\n",
    "model_evaluation = {'Naive Bayes' : [accuracy_score(labels_train, mnb.predict(features_train)),accuracy_score(labels_test, mnb_predictions)]}\n",
    "\n",
    "model_evaluation"
   ]
  },
  {
   "cell_type": "markdown",
   "metadata": {},
   "source": [
    "## Logistic Regression"
   ]
  },
  {
   "cell_type": "code",
   "execution_count": 47,
   "metadata": {
    "execution": {
     "iopub.execute_input": "2021-11-24T02:28:26.076943Z",
     "iopub.status.busy": "2021-11-24T02:28:26.076657Z",
     "iopub.status.idle": "2021-11-24T02:28:26.082539Z",
     "shell.execute_reply": "2021-11-24T02:28:26.081497Z",
     "shell.execute_reply.started": "2021-11-24T02:28:26.076914Z"
    }
   },
   "outputs": [
    {
     "name": "stdout",
     "output_type": "stream",
     "text": [
      "{'C': 1.0, 'class_weight': None, 'dual': False, 'fit_intercept': True, 'intercept_scaling': 1, 'l1_ratio': None, 'max_iter': 100, 'multi_class': 'auto', 'n_jobs': None, 'penalty': 'l2', 'random_state': None, 'solver': 'lbfgs', 'tol': 0.0001, 'verbose': 0, 'warm_start': False}\n",
      "time: 1.06 ms (started: 2021-11-24 02:28:26 +00:00)\n"
     ]
    }
   ],
   "source": [
    "#Get current parameters\n",
    "from sklearn.linear_model import LogisticRegression\n",
    "lgreg = LogisticRegression()\n",
    "print(lgreg.get_params())\n",
    "\n",
    "#In order to use logistic regression for multiclass (non-binary) classification, we have to set the multi_class parameter to 'multinomial'"
   ]
  },
  {
   "cell_type": "code",
   "execution_count": 48,
   "metadata": {
    "execution": {
     "iopub.execute_input": "2021-11-24T02:28:28.510721Z",
     "iopub.status.busy": "2021-11-24T02:28:28.510433Z",
     "iopub.status.idle": "2021-11-24T02:28:35.048942Z",
     "shell.execute_reply": "2021-11-24T02:28:35.048217Z",
     "shell.execute_reply.started": "2021-11-24T02:28:28.510694Z"
    }
   },
   "outputs": [
    {
     "name": "stdout",
     "output_type": "stream",
     "text": [
      "Logistic Regression Classification Report\n",
      "              precision    recall  f1-score   support\n",
      "\n",
      "           0       0.79      0.88      0.83       932\n",
      "           1       0.85      0.91      0.88       865\n",
      "           2       0.84      0.73      0.78       639\n",
      "           3       0.92      0.77      0.83       550\n",
      "\n",
      "    accuracy                           0.84      2986\n",
      "   macro avg       0.85      0.82      0.83      2986\n",
      "weighted avg       0.84      0.84      0.84      2986\n",
      "\n"
     ]
    },
    {
     "data": {
      "text/plain": [
       "{'Naive Bayes': [0.792162116898342, 0.7756195579370395],\n",
       " 'Logistic Regression': [0.866186568414001, 0.8379102478231748]}"
      ]
     },
     "execution_count": 48,
     "metadata": {},
     "output_type": "execute_result"
    },
    {
     "data": {
      "image/png": "[encoded data removed]",
      "text/plain": [
       "<Figure size 640x480 with 2 Axes>"
      ]
     },
     "metadata": {
      "needs_background": "light"
     },
     "output_type": "display_data"
    },
    {
     "name": "stdout",
     "output_type": "stream",
     "text": [
      "time: 6.53 s (started: 2021-11-24 02:28:28 +00:00)\n"
     ]
    }
   ],
   "source": [
    "lgreg = LogisticRegression(multi_class='multinomial', max_iter = 300)\n",
    "lgreg_model = lgreg.fit(features_train, labels_train)\n",
    "lgreg_predictions = lgreg_model.predict(features_test)\n",
    "\n",
    "print (\"Logistic Regression Classification Report\")\n",
    "print(classification_report(labels_test, lgreg_predictions))\n",
    "\n",
    "#Confusion Matrix\n",
    "figure(figsize=(8, 6), dpi=80)\n",
    "cfmatrix = confusion_matrix(labels_test, lgreg_predictions)\n",
    "cfmatrix_mnb = sns.heatmap(cfmatrix, annot=True, xticklabels=['Depression','Anxiety','Bipolar','Schizophrenia'], yticklabels=['Depression','Anxiety','Bipolar','Schizophrenia'])\n",
    "plt.ylabel('Predicted')\n",
    "plt.xlabel('Actual')\n",
    "plt.title('Logistic Regression Confusion Matrix')\n",
    "\n",
    "#Add values for model comparison\n",
    "model_evaluation.update({'Logistic Regression' : [accuracy_score(labels_train,lgreg.predict(features_train)), accuracy_score(labels_test, lgreg_predictions)]})\n",
    "\n",
    "model_evaluation"
   ]
  },
  {
   "cell_type": "code",
   "execution_count": 49,
   "metadata": {
    "execution": {
     "iopub.execute_input": "2021-11-24T02:28:39.167682Z",
     "iopub.status.busy": "2021-11-24T02:28:39.167354Z",
     "iopub.status.idle": "2021-11-24T02:29:45.976981Z",
     "shell.execute_reply": "2021-11-24T02:29:45.976022Z",
     "shell.execute_reply.started": "2021-11-24T02:28:39.167651Z"
    }
   },
   "outputs": [
    {
     "data": {
      "text/plain": [
       "{'Naive Bayes': 0.7759248252344723, 'Logistic Regression': 0.8445872965707709}"
      ]
     },
     "execution_count": 49,
     "metadata": {},
     "output_type": "execute_result"
    },
    {
     "name": "stdout",
     "output_type": "stream",
     "text": [
      "time: 1min 6s (started: 2021-11-24 02:28:39 +00:00)\n"
     ]
    }
   ],
   "source": [
    "#Using KFold cross validation. Splitting into train and test data is taken care of for each iteration, so declaring x_train, x_test etc. is not necessary\n",
    "scores = cross_val_score(lgreg, x, y, cv=10, scoring = 'accuracy')\n",
    "model_evaluation_kfold_lgreg = {'Accuracy': scores.mean()}\n",
    "\n",
    "scores = cross_val_score(lgreg, x, y, cv=10, scoring = 'precision')\n",
    "model_evaluation_kfold_lgreg.update = {'Precision': scores.mean()}\n",
    "\n",
    "scores = cross_val_score(lgreg, x, y, cv=10, scoring = 'recall')\n",
    "model_evaluation_kfold_lgreg.update = {'Recall': scores.mean()}"
   ]
  },
  {
   "cell_type": "markdown",
   "metadata": {},
   "source": [
    "## KNN"
   ]
  },
  {
   "cell_type": "code",
   "execution_count": 50,
   "metadata": {
    "execution": {
     "iopub.execute_input": "2021-11-24T02:31:31.528945Z",
     "iopub.status.busy": "2021-11-24T02:31:31.528596Z",
     "iopub.status.idle": "2021-11-24T02:31:31.534616Z",
     "shell.execute_reply": "2021-11-24T02:31:31.533403Z",
     "shell.execute_reply.started": "2021-11-24T02:31:31.528913Z"
    }
   },
   "outputs": [
    {
     "name": "stdout",
     "output_type": "stream",
     "text": [
      "{'algorithm': 'auto', 'leaf_size': 30, 'metric': 'minkowski', 'metric_params': None, 'n_jobs': None, 'n_neighbors': 5, 'p': 2, 'weights': 'uniform'}\n",
      "time: 1.55 ms (started: 2021-11-24 02:31:31 +00:00)\n"
     ]
    }
   ],
   "source": [
    "#Get current parameters\n",
    "knn = KNeighborsClassifier()\n",
    "print(knn.get_params())"
   ]
  },
  {
   "cell_type": "code",
   "execution_count": null,
   "metadata": {
    "execution": {
     "iopub.execute_input": "2021-11-24T02:31:35.449476Z",
     "iopub.status.busy": "2021-11-24T02:31:35.449168Z"
    }
   },
   "outputs": [],
   "source": [
    "#Tuning the parameters - find best value for n_neighbors\n",
    "accuracy_scores = []\n",
    "\n",
    "k_range = range(1,31)\n",
    "\n",
    "for k in k_range:\n",
    "    knn = KNeighborsClassifier(n_neighbors = k)\n",
    "    knn.fit(features_train, labels_train)\n",
    "    knn_predictions = knn.predict(features_test)\n",
    "    accuracy_scores.append(metrics.accuracy_score(labels_test, knn_predictions))\n",
    "    \n",
    "\n",
    "plt.plot(k_range, accuracy_scores)\n",
    "plt.xlabel('n_neighbors')\n",
    "plt.ylabel('Test Accuracy')\n",
    "plt.show()\n",
    "\n",
    "#We see that the highest accuracy is at a value of 26 neighbors"
   ]
  },
  {
   "cell_type": "code",
   "execution_count": null,
   "metadata": {},
   "outputs": [],
   "source": [
    "#Based on the analysis above, we will use n_neighbors = 26\n",
    "\n",
    "knn = KNeighborsClassifier(n_neighbors = 26)\n",
    "knn_model = knn.fit(features_train, labels_train)\n",
    "\n",
    "knn_predictions = knn_model.predict(features_test)\n",
    "\n",
    "#Print model evaluation report\n",
    "print (\"KNN Classification Report\")\n",
    "print(classification_report(labels_test, knn_predictions))\n",
    "\n",
    "#Confusion Matrix\n",
    "figure(figsize=(8, 6), dpi=80)\n",
    "cfmatrix = confusion_matrix(labels_test, knn_predictions)\n",
    "sns.heatmap(cfmatrix, annot=True, xticklabels=['Depression','Anxiety','Bipolar','Schizophrenia'], yticklabels=['Depression','Anxiety','Bipolar','Schizophrenia'])\n",
    "plt.ylabel('Predicted')\n",
    "plt.xlabel('Actual')\n",
    "plt.title('KNN Confusion Matrix')\n",
    "\n",
    "#Add values for model comparison\n",
    "model_evaluation.update({'KNN' : [accuracy_score(labels_train, knn.predict(features_train)),accuracy_score(labels_test, knn_predictions)]})"
   ]
  },
  {
   "cell_type": "code",
   "execution_count": null,
   "metadata": {},
   "outputs": [],
   "source": [
    "#Using KFold cross validation. Splitting into train and test data is taken care of for each iteration, so declaring x_train, x_test etc. is not necessary\n",
    "scores = cross_val_score(knn, x, y, cv=10, scoring = 'accuracy')\n",
    "model_evaluation_kfold_knn = {'Accuracy': scores.mean()}\n",
    "\n",
    "scores = cross_val_score(knn, x, y, cv=10, scoring = 'precision')\n",
    "model_evaluation_kfold_knn.update = {'Precision': scores.mean()}\n",
    "\n",
    "scores = cross_val_score(knn, x, y, cv=10, scoring = 'recall')\n",
    "model_evaluation_kfold_knn.update = {'Recall': scores.mean()}"
   ]
  },
  {
   "cell_type": "markdown",
   "metadata": {},
   "source": [
    "## Model Comparison"
   ]
  },
  {
   "cell_type": "markdown",
   "metadata": {},
   "source": [
    "By comparing accuracy scores across all models, we can assess which model performs the best for our purpose"
   ]
  },
  {
   "cell_type": "code",
   "execution_count": null,
   "metadata": {
    "execution": {
     "iopub.status.busy": "2021-11-24T01:40:13.506884Z",
     "iopub.status.idle": "2021-11-24T01:40:13.507163Z"
    }
   },
   "outputs": [],
   "source": [
    "model_df = pd.DataFrame.from_dict(model_evaluation.items())\n",
    "model_df = model_df.rename(columns={0:'Model', 1:'Testing_Accuracy'})\n",
    "model_df[['Training Accuracy','Testing Accuracy']] = pd.DataFrame(model_df.Testing_Accuracy.tolist(), index = model_df.index)\n",
    "\n",
    "model_df = model_df[['Model','Training Accuracy','Testing Accuracy']]\n",
    "\n",
    "model_df"
   ]
  },
  {
   "cell_type": "markdown",
   "metadata": {},
   "source": [
    "It appears that none of the models are overfit to the training data, as model performance is similar on both training and testing data. From the data, we can see that the Logistic Regression model performed the best with a prediction accuracy of ~84%."
   ]
  },
  {
   "cell_type": "markdown",
   "metadata": {},
   "source": [
    "## Logistic Regression"
   ]
  },
  {
   "cell_type": "markdown",
   "metadata": {},
   "source": [
    "## Twitter Analysis"
   ]
  },
  {
   "cell_type": "markdown",
   "metadata": {},
   "source": [
    "Using the classification model trained on Reddit forum conversations related to mental health, we can categorize Tweets into various mental health indications. The key value proposition of using Twitter data is that it also includes user information, including the location of the author. We can use this information to assess changes in mental health conversation volumes regionally, and in response to COVID-19 changes in various provinces.\n",
    "\n",
    "Based on the model performance noted above, we will use the Logistic Regression model to classify tweets."
   ]
  },
  {
   "cell_type": "markdown",
   "metadata": {},
   "source": [
    "### Read & Format Data"
   ]
  },
  {
   "cell_type": "code",
   "execution_count": null,
   "metadata": {
    "execution": {
     "iopub.status.busy": "2021-11-24T01:40:13.507857Z",
     "iopub.status.idle": "2021-11-24T01:40:13.508177Z"
    }
   },
   "outputs": [],
   "source": [
    "twitter_df = pd.read_csv('twitter_corpus.csv', encoding = 'unicode_escape')\n",
    "twitter_df = pd.DataFrame(twitter_df)\n",
    "\n",
    "#Drop N/A values, and include only posts which have an identified geographic region\n",
    "\n",
    "twitter_df = twitter_df[twitter_df['Snippet'].notna()]\n",
    "twitter_df = twitter_df[twitter_df['Region'].notna()]\n",
    "twitter_df = twitter_df.drop_duplicates(subset=['Snippet'])\n",
    "\n",
    "#Text processing\n",
    "#Data Cleaning - Snippet\n",
    "\n",
    "#First, remove author names from the posts, which are any terms starting with '@'\n",
    "stripped_authors = []\n",
    "for i in twitter_df.index:\n",
    "    stripped_authors.append(' '.join(w for w in twitter_df['Snippet'][i].split(' ') if not w.startswith('@')))\n",
    "    \n",
    "twitter_df['Snippet'] = stripped_authors\n",
    "\n",
    "#Twitter posts are stored as a list of string values. To process each string value in the list, iterate the function over each string item in the list. Then return formatted lists\n",
    "# to string format\n",
    "lowercase_posts = []\n",
    "for i in twitter_df.index:\n",
    "    lowercase_posts.append(twitter_df['Snippet'][i].lower())\n",
    "\n",
    "twitter_df['Snippet'] = lowercase_posts\n",
    "\n",
    "\n",
    "#Remove punctuation from posts\n",
    "strip_punctuation = []\n",
    "for i in twitter_df.index:\n",
    "    strip_punctuation.append(twitter_df['Snippet'][i].translate(str.maketrans('','',string.punctuation)))\n",
    "\n",
    "twitter_df['Snippet'] = strip_punctuation\n",
    "\n",
    "#Tokenize each string input to generate list of lists containing string values\n",
    "tokenized_posts = []\n",
    "for i in twitter_df.index:\n",
    "    tokenized_posts.append(word_tokenize(twitter_df['Snippet'][i]))\n",
    "\n",
    "twitter_df['Snippet'] = tokenized_posts\n",
    "\n",
    "#Remove stopwords\n",
    "\n",
    "filtered_posts = []\n",
    "for i in twitter_df.index:\n",
    "    filtered_posts.append([w for w in twitter_df['Snippet'][i] if w not in stopwords])\n",
    "    \n",
    "twitter_df['Snippet'] = filtered_posts\n",
    "\n",
    "#Convert processed text from list to string\n",
    "\n",
    "new_strings = []\n",
    "for i in twitter_df.index:\n",
    "    new_strings.append(' '.join(twitter_df['Snippet'][i]))\n",
    "\n",
    "twitter_df['Snippet'] = new_strings\n",
    "\n",
    "\n",
    "#Remove all non-alphanumeric characters to clean up text and remove symbols, emojis, etc.\n",
    "stripped_strings = []\n",
    "for i in twitter_df.index:\n",
    "    stripped_strings.append(re.sub(r'[^A-Za-z0-9 ]+', '', twitter_df['Snippet'][i]))\n",
    "        \n",
    "twitter_df['Snippet'] = stripped_strings\n",
    "\n",
    "\n",
    "#Lemmatize posts\n",
    "wn = WordNetLemmatizer()\n",
    "lemmatized_posts = []\n",
    "\n",
    "for i in twitter_df.index:\n",
    "    lemmatized_content = []\n",
    "    post = twitter_df['Snippet'][i]\n",
    "    post_words = post.split(\" \")\n",
    "    for word in post_words:\n",
    "        lemmatized_content.append(wn.lemmatize(word, pos='v'))\n",
    "    lemmatized_post = \" \".join(lemmatized_content)\n",
    "    lemmatized_posts.append(lemmatized_post)\n",
    "\n",
    "twitter_df['Snippet'] = lemmatized_posts\n",
    "\n",
    "twitter_df"
   ]
  },
  {
   "cell_type": "code",
   "execution_count": null,
   "metadata": {
    "execution": {
     "iopub.status.busy": "2021-11-24T01:40:13.508875Z",
     "iopub.status.idle": "2021-11-24T01:40:13.509163Z"
    }
   },
   "outputs": [],
   "source": [
    "#Transform \n",
    "np.set_printoptions(threshold=1000)\n",
    "tweets = twitter_df['Snippet']\n",
    "\n",
    "#Convert Tweets to vectors\n",
    "tweet_vectors = tfidf.transform(tweets).toarray()\n",
    "\n",
    "\n",
    "#Run predictive model\n",
    "tweet_predictions = lgreg_model.predict(tweet_vectors)\n",
    "tweet_predictions = tweet_predictions.tolist()\n",
    "\n",
    "\n",
    "#Generate dataframe showing tweet and its predicted mental health indication\n",
    "\n",
    "tweet_classifications = {'Snippet': tweets, 'topic_code' : tweet_predictions}\n",
    "\n",
    "tweet_df = pd.DataFrame(tweet_classifications)\n",
    "\n",
    "categories = []\n",
    "for i in tweet_df.index:\n",
    "    if tweet_df['topic_code'][i] == 0:\n",
    "        categories.append('Depression')\n",
    "    elif tweet_df['topic_code'][i] == 1:\n",
    "        categories.append('Anxiety')\n",
    "    elif tweet_df['topic_code'][i] == 2:\n",
    "        categories.append('Bipolar')\n",
    "    elif tweet_df['topic_code'][i] == 3:\n",
    "        categories.append('Schizophrenia')\n",
    "\n",
    "tweet_df['Categories'] = categories\n",
    "\n",
    "tweet_df"
   ]
  },
  {
   "cell_type": "code",
   "execution_count": null,
   "metadata": {
    "execution": {
     "iopub.status.busy": "2021-11-24T01:40:13.509827Z",
     "iopub.status.idle": "2021-11-24T01:40:13.510095Z"
    }
   },
   "outputs": [],
   "source": [
    "#Merge location data from twitter_df to add additional context for analysis\n",
    "classified_tweets = pd.merge(tweet_df, twitter_df, on = 'Snippet', how ='inner')\n",
    "classified_tweets = classified_tweets[['Date','Snippet','Categories','Country','Region','City Code','Location Name']]\n",
    "classified_tweets = classified_tweets.replace('QuÃ©bec', 'Quebec')  #Fix formatting\n",
    "classified_tweets"
   ]
  },
  {
   "cell_type": "markdown",
   "metadata": {},
   "source": [
    "### Twitter Analysis"
   ]
  },
  {
   "cell_type": "markdown",
   "metadata": {},
   "source": [
    "First, we can look at the distribution of posts among mental health categories to see which mental health indications have been most prevalent in social media discussions over the course of the pandemic. From the distributon we can see that posts which are indicative of Depression are the most prevalant in social media, followed by Anxiety, Schizophrenia and Bipolar disorder."
   ]
  },
  {
   "cell_type": "code",
   "execution_count": null,
   "metadata": {
    "execution": {
     "iopub.status.busy": "2021-11-24T01:40:13.510823Z",
     "iopub.status.idle": "2021-11-24T01:40:13.511084Z"
    }
   },
   "outputs": [],
   "source": [
    "sns.set_color_codes('pastel')\n",
    "sns.set(style='darkgrid')\n",
    "sns.set(rc={'figure.figsize':(7,10)})\n",
    "sns.countplot(x='Categories', data=classified_tweets, order = classified_tweets['Categories'].value_counts().index, color='b')\n",
    "plt.show()\n",
    "\n",
    "categories = []\n",
    "percentages = []\n",
    "for i in Counter(classified_tweets['Categories']):\n",
    "    categories.append(i) \n",
    "    percentages.append(str(round(len(classified_tweets[classified_tweets['Categories']==i])/len(classified_tweets),5)*100) + '%')\n",
    "\n",
    "zipped_values = zip(categories, percentages)\n",
    "categories_dist = dict(zipped_values)\n",
    "\n",
    "for k, v in categories_dist.items():\n",
    "    print(k, ' : ', v)\n"
   ]
  },
  {
   "cell_type": "markdown",
   "metadata": {},
   "source": [
    "Next, we look at the distribution of tweets by region to understand which areas are most highly represented in our dataset. In this case we can see Ontario makes up the vast majority (~61%) of posts"
   ]
  },
  {
   "cell_type": "code",
   "execution_count": null,
   "metadata": {
    "execution": {
     "iopub.status.busy": "2021-11-24T01:40:13.511820Z",
     "iopub.status.idle": "2021-11-24T01:40:13.512096Z"
    }
   },
   "outputs": [],
   "source": [
    "#View regional breakdown \n",
    "provinces = []\n",
    "percentages = []\n",
    "for i in Counter(classified_tweets['Region']):\n",
    "    provinces.append(i) \n",
    "    percentages.append(str(round(len(classified_tweets[classified_tweets['Region']==i])/len(classified_tweets),5)*100) + '%')\n",
    "\n",
    "zipped_values = zip(provinces, percentages)\n",
    "regional_dist = dict(zipped_values)\n",
    "\n",
    "#Plot counts\n",
    "sns.set_color_codes('pastel')\n",
    "sns.set(style='darkgrid')\n",
    "plt.figure(figsize=(10,8))\n",
    "ax = sns.countplot(x='Region', data=classified_tweets, order = classified_tweets['Region'].value_counts().index, color='b', label='# of Tweets')\n",
    "ax.set_xticklabels(ax.get_xticklabels(), rotation=40, ha='right')\n",
    "plt.show()\n",
    "\n",
    "#Show percentage breakdown\n",
    "for k, v in regional_dist.items():\n",
    "    print(k, ' : ', v)\n"
   ]
  },
  {
   "cell_type": "markdown",
   "metadata": {},
   "source": [
    "To understand the mental health needs within various regions, we can breakdown social media posts within each region by their associated mental health indication as predicted by our logistic regression model. This gives us an idea of what the most pressing mental health issues are across Canada.\n",
    "\n",
    "Below we can see that among the regions that are most highly represented in our data (Ontario, British Columbia, Alberta, Quebec), Depression and Anxiety come through as the two main areas of concern. Among provinces with less data, the distribution across indications becomes more even. In general, Depression and Anxiety remain the highest areas of concern for most smaller provinces. However, an interesting pattern emerges in Saskatchewan and New Brunswick, which were the only two provinces where schizophrenia appears as the most prominent mental health concern."
   ]
  },
  {
   "cell_type": "code",
   "execution_count": null,
   "metadata": {
    "execution": {
     "iopub.status.busy": "2021-11-24T01:40:13.512879Z",
     "iopub.status.idle": "2021-11-24T01:40:13.513161Z"
    }
   },
   "outputs": [],
   "source": [
    "sns.set_color_codes('pastel')\n",
    "sns.set(style='darkgrid')\n",
    "plt.figure(figsize=(15,10))\n",
    "ax = sns.countplot(x='Region', data=classified_tweets, order = classified_tweets['Region'].value_counts().index, hue='Categories')\n",
    "ax.set_xticklabels(ax.get_xticklabels(), rotation=40, ha='right')\n",
    "plt.legend(loc='upper right')\n",
    "plt.show()"
   ]
  },
  {
   "cell_type": "code",
   "execution_count": null,
   "metadata": {
    "execution": {
     "iopub.status.busy": "2021-11-24T01:40:13.513975Z",
     "iopub.status.idle": "2021-11-24T01:40:13.514259Z"
    }
   },
   "outputs": [],
   "source": [
    "#Breakdown region by indication\n",
    "total = classified_tweets.groupby('Region')['Snippet'].count()\n",
    "depression = classified_tweets[classified_tweets.Categories=='Depression'].groupby('Region')['Snippet'].count()\n",
    "anxiety = classified_tweets[classified_tweets.Categories=='Anxiety'].groupby('Region')['Snippet'].count()\n",
    "bipolar = classified_tweets[classified_tweets.Categories=='Bipolar'].groupby('Region')['Snippet'].count()\n",
    "schizophrenia = classified_tweets[classified_tweets.Categories=='Schizophrenia'].groupby('Region')['Snippet'].count()\n",
    "\n"
   ]
  },
  {
   "cell_type": "markdown",
   "metadata": {},
   "source": [
    "### Future Directions: Time Series Analysis"
   ]
  },
  {
   "cell_type": "markdown",
   "metadata": {},
   "source": [
    "A future direction for this analysis would be to plot volume within various conversations over time and correlate changes in volume to COVID-19 related events such as lockdowns,etc. Note, this is beyond the scope of this project."
   ]
  },
  {
   "cell_type": "code",
   "execution_count": null,
   "metadata": {
    "execution": {
     "iopub.status.busy": "2021-11-24T01:40:13.515464Z",
     "iopub.status.idle": "2021-11-24T01:40:13.515910Z"
    }
   },
   "outputs": [],
   "source": [
    "#Generate separate dataframes for each indication\n",
    "depression_df = reddit_df[reddit_df['Subreddit'] == 'r/Depression']\n",
    "anxiety_df = reddit_df[reddit_df['Subreddit'] == 'r/Anxiety']\n",
    "schizophrenia_df = reddit_df[reddit_df['Subreddit'] == 'r/Schizophrenia']\n",
    "bipolar_df = reddit_df[reddit_df['Subreddit'] == 'r/Bipolar']\n",
    "\n",
    "\n",
    "#Define function for generating post volume counts by month for each indication\n",
    "\n",
    "def postvolume(x):\n",
    "        num_posts = x.groupby(pd.Grouper(key='Date', freq='M')).count()\n",
    "        num_posts = pd.DataFrame(num_posts)\n",
    "        num_posts = num_posts.drop(['Query Id','Query Name','Subreddit','Title','Snippet'],axis=1)\n",
    "        num_posts = num_posts.rename(columns={'content':'Posts'})\n",
    "        return num_posts\n",
    "    \n",
    "\n",
    "\n",
    "#Run function on each indication to generate post volumes over time\n",
    "depression_volume = postvolume(depression_df)\n",
    "anxiety_volume = postvolume(anxiety_df)\n",
    "schizophrenia_volume = postvolume(schizophrenia_df)\n",
    "bipolar_volume = postvolume(bipolar_df)\n",
    "    \n",
    "\n",
    "    \n",
    "#Plot activity over time for each subreddit\n",
    "\n",
    "#from matplotlib.pyplot import figure\n",
    "#figure(figsize=(10,8), dpi=80)\n",
    "#plt.plot(depression_volume, label='r/Depression')\n",
    "#plt.plot(anxiety_volume, label = 'r/Anxiety')\n",
    "#plt.plot(schizophrenia_volume, label = 'r/schizophrenia')\n",
    "#plt.plot(bipolar_volume, label = 'r/bipolar')"
   ]
  }
 ],
 "metadata": {
  "kernelspec": {
   "display_name": "Python 3",
   "language": "python",
   "name": "python3"
  },
  "language_info": {
   "codemirror_mode": {
    "name": "ipython",
    "version": 3
   },
   "file_extension": ".py",
   "mimetype": "text/x-python",
   "name": "python",
   "nbconvert_exporter": "python",
   "pygments_lexer": "ipython3",
   "version": "3.7.6"
  }
 },
 "nbformat": 4,
 "nbformat_minor": 4
}
